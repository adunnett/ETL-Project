{
 "metadata": {
  "language_info": {
   "codemirror_mode": {
    "name": "ipython",
    "version": 3
   },
   "file_extension": ".py",
   "mimetype": "text/x-python",
   "name": "python",
   "nbconvert_exporter": "python",
   "pygments_lexer": "ipython3",
   "version": "3.8.3-final"
  },
  "orig_nbformat": 2,
  "kernelspec": {
   "name": "python3",
   "display_name": "Python 3"
  }
 },
 "nbformat": 4,
 "nbformat_minor": 2,
 "cells": [
  {
   "cell_type": "code",
   "execution_count": 20,
   "metadata": {},
   "outputs": [],
   "source": [
    "# import library\n",
    "import pandas as pd"
   ]
  },
  {
   "cell_type": "code",
   "execution_count": 21,
   "metadata": {},
   "outputs": [
    {
     "output_type": "execute_result",
     "data": {
      "text/plain": [
       "              Unnamed: 0.1  MERCURY   VENUS  EARTH      MOON   MARS   JUPITER  \\\n",
       "0                     Mass   0.0553   0.815      1    0.0123  0.107     317.8   \n",
       "1                 Diameter    0.383   0.949      1    0.2724  0.532     11.21   \n",
       "2                  Density    0.984   0.951      1     0.605  0.713     0.240   \n",
       "3                  Gravity    0.378   0.907      1     0.166  0.377      2.36   \n",
       "4          Escape Velocity    0.384   0.926      1     0.213  0.450      5.32   \n",
       "5          Rotation Period     58.8    -244      1      27.4   1.03     0.415   \n",
       "6            Length of Day    175.9   116.8      1      29.5   1.03     0.414   \n",
       "7        Distance from Sun    0.387   0.723      1  0.00257*   1.52      5.20   \n",
       "8               Perihelion    0.313   0.731      1  0.00247*   1.41      5.03   \n",
       "9                 Aphelion    0.459   0.716      1  0.00267*   1.64      5.37   \n",
       "10          Orbital Period    0.241   0.615      1   0.0748*   1.88      11.9   \n",
       "11        Orbital Velocity     1.59    1.18      1   0.0343*  0.808     0.439   \n",
       "12    Orbital Eccentricity     12.3   0.401      1      3.29   5.60      2.93   \n",
       "13      Obliquity to Orbit    0.001  0.113*      1     0.285   1.07     0.134   \n",
       "14        Surface Pressure        0      92      1         0   0.01  Unknown*   \n",
       "15         Number of Moons        0       0      1         0      2        79   \n",
       "16            Ring System?       No      No     No        No     No       Yes   \n",
       "17  Global Magnetic Field?      Yes      No    Yes        No     No       Yes   \n",
       "18                     NaN  MERCURY   VENUS  EARTH      MOON   MARS   JUPITER   \n",
       "\n",
       "      SATURN    URANUS   NEPTUNE    PLUTO  \n",
       "0       95.2      14.5      17.1   0.0025  \n",
       "1       9.45      4.01      3.88    0.186  \n",
       "2      0.125     0.230     0.297    0.380  \n",
       "3      0.916     0.889      1.12    0.071  \n",
       "4       3.17      1.90      2.10    0.116  \n",
       "5      0.445    -0.720     0.673     6.41  \n",
       "6      0.444     0.718     0.671     6.39  \n",
       "7       9.58     19.20     30.05    39.48  \n",
       "8       9.20     18.64     30.22    30.16  \n",
       "9       9.96     19.75     29.89    48.49  \n",
       "10      29.4      83.7     163.7    247.9  \n",
       "11     0.325     0.228     0.182    0.157  \n",
       "12      3.38      2.74     0.677     14.6  \n",
       "13      1.14     4.17*      1.21    2.45*  \n",
       "14  Unknown*  Unknown*  Unknown*  0.00001  \n",
       "15        82        27        14        5  \n",
       "16       Yes       Yes       Yes       No  \n",
       "17       Yes       Yes       Yes  Unknown  \n",
       "18    SATURN    URANUS   NEPTUNE    PLUTO  "
      ],
      "text/html": "<div>\n<style scoped>\n    .dataframe tbody tr th:only-of-type {\n        vertical-align: middle;\n    }\n\n    .dataframe tbody tr th {\n        vertical-align: top;\n    }\n\n    .dataframe thead th {\n        text-align: right;\n    }\n</style>\n<table border=\"1\" class=\"dataframe\">\n  <thead>\n    <tr style=\"text-align: right;\">\n      <th></th>\n      <th>Unnamed: 0.1</th>\n      <th>MERCURY</th>\n      <th>VENUS</th>\n      <th>EARTH</th>\n      <th>MOON</th>\n      <th>MARS</th>\n      <th>JUPITER</th>\n      <th>SATURN</th>\n      <th>URANUS</th>\n      <th>NEPTUNE</th>\n      <th>PLUTO</th>\n    </tr>\n  </thead>\n  <tbody>\n    <tr>\n      <th>0</th>\n      <td>Mass</td>\n      <td>0.0553</td>\n      <td>0.815</td>\n      <td>1</td>\n      <td>0.0123</td>\n      <td>0.107</td>\n      <td>317.8</td>\n      <td>95.2</td>\n      <td>14.5</td>\n      <td>17.1</td>\n      <td>0.0025</td>\n    </tr>\n    <tr>\n      <th>1</th>\n      <td>Diameter</td>\n      <td>0.383</td>\n      <td>0.949</td>\n      <td>1</td>\n      <td>0.2724</td>\n      <td>0.532</td>\n      <td>11.21</td>\n      <td>9.45</td>\n      <td>4.01</td>\n      <td>3.88</td>\n      <td>0.186</td>\n    </tr>\n    <tr>\n      <th>2</th>\n      <td>Density</td>\n      <td>0.984</td>\n      <td>0.951</td>\n      <td>1</td>\n      <td>0.605</td>\n      <td>0.713</td>\n      <td>0.240</td>\n      <td>0.125</td>\n      <td>0.230</td>\n      <td>0.297</td>\n      <td>0.380</td>\n    </tr>\n    <tr>\n      <th>3</th>\n      <td>Gravity</td>\n      <td>0.378</td>\n      <td>0.907</td>\n      <td>1</td>\n      <td>0.166</td>\n      <td>0.377</td>\n      <td>2.36</td>\n      <td>0.916</td>\n      <td>0.889</td>\n      <td>1.12</td>\n      <td>0.071</td>\n    </tr>\n    <tr>\n      <th>4</th>\n      <td>Escape Velocity</td>\n      <td>0.384</td>\n      <td>0.926</td>\n      <td>1</td>\n      <td>0.213</td>\n      <td>0.450</td>\n      <td>5.32</td>\n      <td>3.17</td>\n      <td>1.90</td>\n      <td>2.10</td>\n      <td>0.116</td>\n    </tr>\n    <tr>\n      <th>5</th>\n      <td>Rotation Period</td>\n      <td>58.8</td>\n      <td>-244</td>\n      <td>1</td>\n      <td>27.4</td>\n      <td>1.03</td>\n      <td>0.415</td>\n      <td>0.445</td>\n      <td>-0.720</td>\n      <td>0.673</td>\n      <td>6.41</td>\n    </tr>\n    <tr>\n      <th>6</th>\n      <td>Length of Day</td>\n      <td>175.9</td>\n      <td>116.8</td>\n      <td>1</td>\n      <td>29.5</td>\n      <td>1.03</td>\n      <td>0.414</td>\n      <td>0.444</td>\n      <td>0.718</td>\n      <td>0.671</td>\n      <td>6.39</td>\n    </tr>\n    <tr>\n      <th>7</th>\n      <td>Distance from Sun</td>\n      <td>0.387</td>\n      <td>0.723</td>\n      <td>1</td>\n      <td>0.00257*</td>\n      <td>1.52</td>\n      <td>5.20</td>\n      <td>9.58</td>\n      <td>19.20</td>\n      <td>30.05</td>\n      <td>39.48</td>\n    </tr>\n    <tr>\n      <th>8</th>\n      <td>Perihelion</td>\n      <td>0.313</td>\n      <td>0.731</td>\n      <td>1</td>\n      <td>0.00247*</td>\n      <td>1.41</td>\n      <td>5.03</td>\n      <td>9.20</td>\n      <td>18.64</td>\n      <td>30.22</td>\n      <td>30.16</td>\n    </tr>\n    <tr>\n      <th>9</th>\n      <td>Aphelion</td>\n      <td>0.459</td>\n      <td>0.716</td>\n      <td>1</td>\n      <td>0.00267*</td>\n      <td>1.64</td>\n      <td>5.37</td>\n      <td>9.96</td>\n      <td>19.75</td>\n      <td>29.89</td>\n      <td>48.49</td>\n    </tr>\n    <tr>\n      <th>10</th>\n      <td>Orbital Period</td>\n      <td>0.241</td>\n      <td>0.615</td>\n      <td>1</td>\n      <td>0.0748*</td>\n      <td>1.88</td>\n      <td>11.9</td>\n      <td>29.4</td>\n      <td>83.7</td>\n      <td>163.7</td>\n      <td>247.9</td>\n    </tr>\n    <tr>\n      <th>11</th>\n      <td>Orbital Velocity</td>\n      <td>1.59</td>\n      <td>1.18</td>\n      <td>1</td>\n      <td>0.0343*</td>\n      <td>0.808</td>\n      <td>0.439</td>\n      <td>0.325</td>\n      <td>0.228</td>\n      <td>0.182</td>\n      <td>0.157</td>\n    </tr>\n    <tr>\n      <th>12</th>\n      <td>Orbital Eccentricity</td>\n      <td>12.3</td>\n      <td>0.401</td>\n      <td>1</td>\n      <td>3.29</td>\n      <td>5.60</td>\n      <td>2.93</td>\n      <td>3.38</td>\n      <td>2.74</td>\n      <td>0.677</td>\n      <td>14.6</td>\n    </tr>\n    <tr>\n      <th>13</th>\n      <td>Obliquity to Orbit</td>\n      <td>0.001</td>\n      <td>0.113*</td>\n      <td>1</td>\n      <td>0.285</td>\n      <td>1.07</td>\n      <td>0.134</td>\n      <td>1.14</td>\n      <td>4.17*</td>\n      <td>1.21</td>\n      <td>2.45*</td>\n    </tr>\n    <tr>\n      <th>14</th>\n      <td>Surface Pressure</td>\n      <td>0</td>\n      <td>92</td>\n      <td>1</td>\n      <td>0</td>\n      <td>0.01</td>\n      <td>Unknown*</td>\n      <td>Unknown*</td>\n      <td>Unknown*</td>\n      <td>Unknown*</td>\n      <td>0.00001</td>\n    </tr>\n    <tr>\n      <th>15</th>\n      <td>Number of Moons</td>\n      <td>0</td>\n      <td>0</td>\n      <td>1</td>\n      <td>0</td>\n      <td>2</td>\n      <td>79</td>\n      <td>82</td>\n      <td>27</td>\n      <td>14</td>\n      <td>5</td>\n    </tr>\n    <tr>\n      <th>16</th>\n      <td>Ring System?</td>\n      <td>No</td>\n      <td>No</td>\n      <td>No</td>\n      <td>No</td>\n      <td>No</td>\n      <td>Yes</td>\n      <td>Yes</td>\n      <td>Yes</td>\n      <td>Yes</td>\n      <td>No</td>\n    </tr>\n    <tr>\n      <th>17</th>\n      <td>Global Magnetic Field?</td>\n      <td>Yes</td>\n      <td>No</td>\n      <td>Yes</td>\n      <td>No</td>\n      <td>No</td>\n      <td>Yes</td>\n      <td>Yes</td>\n      <td>Yes</td>\n      <td>Yes</td>\n      <td>Unknown</td>\n    </tr>\n    <tr>\n      <th>18</th>\n      <td>NaN</td>\n      <td>MERCURY</td>\n      <td>VENUS</td>\n      <td>EARTH</td>\n      <td>MOON</td>\n      <td>MARS</td>\n      <td>JUPITER</td>\n      <td>SATURN</td>\n      <td>URANUS</td>\n      <td>NEPTUNE</td>\n      <td>PLUTO</td>\n    </tr>\n  </tbody>\n</table>\n</div>"
     },
     "metadata": {},
     "execution_count": 21
    }
   ],
   "source": [
    "# assign the csv file to a variable\n",
    "ratio_fact_sheet_path = ('Resources/planetary_ratio_fact_sheet.csv')\n",
    "\n",
    "# read the csv file while setting the index_col = 0 to use the first column in the csv file as the index\n",
    "ratio_fact_sheet_df = pd.read_csv(ratio_fact_sheet_path, index_col=0)\n",
    "ratio_fact_sheet_df"
   ]
  },
  {
   "cell_type": "code",
   "execution_count": 22,
   "metadata": {},
   "outputs": [
    {
     "output_type": "execute_result",
     "data": {
      "text/plain": [
       "                  Planet Mercury   Venus Earth   Mars Jupiter Saturn  Uranus  \\\n",
       "0                   Mass  0.0553   0.815     1  0.107   317.8   95.2    14.5   \n",
       "1               Diameter   0.383   0.949     1  0.532   11.21   9.45    4.01   \n",
       "2                Density   0.984   0.951     1  0.713   0.240  0.125   0.230   \n",
       "3                Gravity   0.378   0.907     1  0.377    2.36  0.916   0.889   \n",
       "4        Escape Velocity   0.384   0.926     1  0.450    5.32   3.17    1.90   \n",
       "5        Rotation Period    58.8    -244     1   1.03   0.415  0.445  -0.720   \n",
       "6          Length of Day   175.9   116.8     1   1.03   0.414  0.444   0.718   \n",
       "7      Distance from Sun   0.387   0.723     1   1.52    5.20   9.58   19.20   \n",
       "8             Perihelion   0.313   0.731     1   1.41    5.03   9.20   18.64   \n",
       "9               Aphelion   0.459   0.716     1   1.64    5.37   9.96   19.75   \n",
       "10        Orbital Period   0.241   0.615     1   1.88    11.9   29.4    83.7   \n",
       "11      Orbital Velocity    1.59    1.18     1  0.808   0.439  0.325   0.228   \n",
       "12  Orbital Eccentricity    12.3   0.401     1   5.60    2.93   3.38    2.74   \n",
       "13    Obliquity to Orbit   0.001  0.113*     1   1.07   0.134   1.14   4.17*   \n",
       "\n",
       "   Neptune   Pluto  \n",
       "0     17.1  0.0025  \n",
       "1     3.88   0.186  \n",
       "2    0.297   0.380  \n",
       "3     1.12   0.071  \n",
       "4     2.10   0.116  \n",
       "5    0.673    6.41  \n",
       "6    0.671    6.39  \n",
       "7    30.05   39.48  \n",
       "8    30.22   30.16  \n",
       "9    29.89   48.49  \n",
       "10   163.7   247.9  \n",
       "11   0.182   0.157  \n",
       "12   0.677    14.6  \n",
       "13    1.21   2.45*  "
      ],
      "text/html": "<div>\n<style scoped>\n    .dataframe tbody tr th:only-of-type {\n        vertical-align: middle;\n    }\n\n    .dataframe tbody tr th {\n        vertical-align: top;\n    }\n\n    .dataframe thead th {\n        text-align: right;\n    }\n</style>\n<table border=\"1\" class=\"dataframe\">\n  <thead>\n    <tr style=\"text-align: right;\">\n      <th></th>\n      <th>Planet</th>\n      <th>Mercury</th>\n      <th>Venus</th>\n      <th>Earth</th>\n      <th>Mars</th>\n      <th>Jupiter</th>\n      <th>Saturn</th>\n      <th>Uranus</th>\n      <th>Neptune</th>\n      <th>Pluto</th>\n    </tr>\n  </thead>\n  <tbody>\n    <tr>\n      <th>0</th>\n      <td>Mass</td>\n      <td>0.0553</td>\n      <td>0.815</td>\n      <td>1</td>\n      <td>0.107</td>\n      <td>317.8</td>\n      <td>95.2</td>\n      <td>14.5</td>\n      <td>17.1</td>\n      <td>0.0025</td>\n    </tr>\n    <tr>\n      <th>1</th>\n      <td>Diameter</td>\n      <td>0.383</td>\n      <td>0.949</td>\n      <td>1</td>\n      <td>0.532</td>\n      <td>11.21</td>\n      <td>9.45</td>\n      <td>4.01</td>\n      <td>3.88</td>\n      <td>0.186</td>\n    </tr>\n    <tr>\n      <th>2</th>\n      <td>Density</td>\n      <td>0.984</td>\n      <td>0.951</td>\n      <td>1</td>\n      <td>0.713</td>\n      <td>0.240</td>\n      <td>0.125</td>\n      <td>0.230</td>\n      <td>0.297</td>\n      <td>0.380</td>\n    </tr>\n    <tr>\n      <th>3</th>\n      <td>Gravity</td>\n      <td>0.378</td>\n      <td>0.907</td>\n      <td>1</td>\n      <td>0.377</td>\n      <td>2.36</td>\n      <td>0.916</td>\n      <td>0.889</td>\n      <td>1.12</td>\n      <td>0.071</td>\n    </tr>\n    <tr>\n      <th>4</th>\n      <td>Escape Velocity</td>\n      <td>0.384</td>\n      <td>0.926</td>\n      <td>1</td>\n      <td>0.450</td>\n      <td>5.32</td>\n      <td>3.17</td>\n      <td>1.90</td>\n      <td>2.10</td>\n      <td>0.116</td>\n    </tr>\n    <tr>\n      <th>5</th>\n      <td>Rotation Period</td>\n      <td>58.8</td>\n      <td>-244</td>\n      <td>1</td>\n      <td>1.03</td>\n      <td>0.415</td>\n      <td>0.445</td>\n      <td>-0.720</td>\n      <td>0.673</td>\n      <td>6.41</td>\n    </tr>\n    <tr>\n      <th>6</th>\n      <td>Length of Day</td>\n      <td>175.9</td>\n      <td>116.8</td>\n      <td>1</td>\n      <td>1.03</td>\n      <td>0.414</td>\n      <td>0.444</td>\n      <td>0.718</td>\n      <td>0.671</td>\n      <td>6.39</td>\n    </tr>\n    <tr>\n      <th>7</th>\n      <td>Distance from Sun</td>\n      <td>0.387</td>\n      <td>0.723</td>\n      <td>1</td>\n      <td>1.52</td>\n      <td>5.20</td>\n      <td>9.58</td>\n      <td>19.20</td>\n      <td>30.05</td>\n      <td>39.48</td>\n    </tr>\n    <tr>\n      <th>8</th>\n      <td>Perihelion</td>\n      <td>0.313</td>\n      <td>0.731</td>\n      <td>1</td>\n      <td>1.41</td>\n      <td>5.03</td>\n      <td>9.20</td>\n      <td>18.64</td>\n      <td>30.22</td>\n      <td>30.16</td>\n    </tr>\n    <tr>\n      <th>9</th>\n      <td>Aphelion</td>\n      <td>0.459</td>\n      <td>0.716</td>\n      <td>1</td>\n      <td>1.64</td>\n      <td>5.37</td>\n      <td>9.96</td>\n      <td>19.75</td>\n      <td>29.89</td>\n      <td>48.49</td>\n    </tr>\n    <tr>\n      <th>10</th>\n      <td>Orbital Period</td>\n      <td>0.241</td>\n      <td>0.615</td>\n      <td>1</td>\n      <td>1.88</td>\n      <td>11.9</td>\n      <td>29.4</td>\n      <td>83.7</td>\n      <td>163.7</td>\n      <td>247.9</td>\n    </tr>\n    <tr>\n      <th>11</th>\n      <td>Orbital Velocity</td>\n      <td>1.59</td>\n      <td>1.18</td>\n      <td>1</td>\n      <td>0.808</td>\n      <td>0.439</td>\n      <td>0.325</td>\n      <td>0.228</td>\n      <td>0.182</td>\n      <td>0.157</td>\n    </tr>\n    <tr>\n      <th>12</th>\n      <td>Orbital Eccentricity</td>\n      <td>12.3</td>\n      <td>0.401</td>\n      <td>1</td>\n      <td>5.60</td>\n      <td>2.93</td>\n      <td>3.38</td>\n      <td>2.74</td>\n      <td>0.677</td>\n      <td>14.6</td>\n    </tr>\n    <tr>\n      <th>13</th>\n      <td>Obliquity to Orbit</td>\n      <td>0.001</td>\n      <td>0.113*</td>\n      <td>1</td>\n      <td>1.07</td>\n      <td>0.134</td>\n      <td>1.14</td>\n      <td>4.17*</td>\n      <td>1.21</td>\n      <td>2.45*</td>\n    </tr>\n  </tbody>\n</table>\n</div>"
     },
     "metadata": {},
     "execution_count": 22
    }
   ],
   "source": [
    "# delete the column \"MOON\" since it's not a planet\n",
    "del ratio_fact_sheet_df['MOON']\n",
    "\n",
    "# renamed the first column to \"Planet\"\n",
    "ratio_fact_sheet_df.columns.values[0] = \"Planet\"\n",
    "\n",
    "# converted the column names to titles (first character to uppercase, and remaining to lower case)\n",
    "ratio_fact_sheet_df.columns = ratio_fact_sheet_df.columns.str.title()\n",
    "\n",
    "# delete unnecessary rows\n",
    "ratio_fact_sheet_transformed = ratio_fact_sheet_df.drop([14,15,16,17,18])\n",
    "ratio_fact_sheet_transformed"
   ]
  },
  {
   "cell_type": "code",
   "execution_count": 23,
   "metadata": {},
   "outputs": [
    {
     "output_type": "execute_result",
     "data": {
      "text/plain": [
       "                     Mercury   Venus Earth   Mars Jupiter Saturn  Uranus  \\\n",
       "Planet                                                                     \n",
       "Mass                  0.0553   0.815     1  0.107   317.8   95.2    14.5   \n",
       "Diameter               0.383   0.949     1  0.532   11.21   9.45    4.01   \n",
       "Density                0.984   0.951     1  0.713   0.240  0.125   0.230   \n",
       "Gravity                0.378   0.907     1  0.377    2.36  0.916   0.889   \n",
       "Escape Velocity        0.384   0.926     1  0.450    5.32   3.17    1.90   \n",
       "Rotation Period         58.8    -244     1   1.03   0.415  0.445  -0.720   \n",
       "Length of Day          175.9   116.8     1   1.03   0.414  0.444   0.718   \n",
       "Distance from Sun      0.387   0.723     1   1.52    5.20   9.58   19.20   \n",
       "Perihelion             0.313   0.731     1   1.41    5.03   9.20   18.64   \n",
       "Aphelion               0.459   0.716     1   1.64    5.37   9.96   19.75   \n",
       "Orbital Period         0.241   0.615     1   1.88    11.9   29.4    83.7   \n",
       "Orbital Velocity        1.59    1.18     1  0.808   0.439  0.325   0.228   \n",
       "Orbital Eccentricity    12.3   0.401     1   5.60    2.93   3.38    2.74   \n",
       "Obliquity to Orbit     0.001  0.113*     1   1.07   0.134   1.14   4.17*   \n",
       "\n",
       "                     Neptune   Pluto  \n",
       "Planet                                \n",
       "Mass                    17.1  0.0025  \n",
       "Diameter                3.88   0.186  \n",
       "Density                0.297   0.380  \n",
       "Gravity                 1.12   0.071  \n",
       "Escape Velocity         2.10   0.116  \n",
       "Rotation Period        0.673    6.41  \n",
       "Length of Day          0.671    6.39  \n",
       "Distance from Sun      30.05   39.48  \n",
       "Perihelion             30.22   30.16  \n",
       "Aphelion               29.89   48.49  \n",
       "Orbital Period         163.7   247.9  \n",
       "Orbital Velocity       0.182   0.157  \n",
       "Orbital Eccentricity   0.677    14.6  \n",
       "Obliquity to Orbit      1.21   2.45*  "
      ],
      "text/html": "<div>\n<style scoped>\n    .dataframe tbody tr th:only-of-type {\n        vertical-align: middle;\n    }\n\n    .dataframe tbody tr th {\n        vertical-align: top;\n    }\n\n    .dataframe thead th {\n        text-align: right;\n    }\n</style>\n<table border=\"1\" class=\"dataframe\">\n  <thead>\n    <tr style=\"text-align: right;\">\n      <th></th>\n      <th>Mercury</th>\n      <th>Venus</th>\n      <th>Earth</th>\n      <th>Mars</th>\n      <th>Jupiter</th>\n      <th>Saturn</th>\n      <th>Uranus</th>\n      <th>Neptune</th>\n      <th>Pluto</th>\n    </tr>\n    <tr>\n      <th>Planet</th>\n      <th></th>\n      <th></th>\n      <th></th>\n      <th></th>\n      <th></th>\n      <th></th>\n      <th></th>\n      <th></th>\n      <th></th>\n    </tr>\n  </thead>\n  <tbody>\n    <tr>\n      <th>Mass</th>\n      <td>0.0553</td>\n      <td>0.815</td>\n      <td>1</td>\n      <td>0.107</td>\n      <td>317.8</td>\n      <td>95.2</td>\n      <td>14.5</td>\n      <td>17.1</td>\n      <td>0.0025</td>\n    </tr>\n    <tr>\n      <th>Diameter</th>\n      <td>0.383</td>\n      <td>0.949</td>\n      <td>1</td>\n      <td>0.532</td>\n      <td>11.21</td>\n      <td>9.45</td>\n      <td>4.01</td>\n      <td>3.88</td>\n      <td>0.186</td>\n    </tr>\n    <tr>\n      <th>Density</th>\n      <td>0.984</td>\n      <td>0.951</td>\n      <td>1</td>\n      <td>0.713</td>\n      <td>0.240</td>\n      <td>0.125</td>\n      <td>0.230</td>\n      <td>0.297</td>\n      <td>0.380</td>\n    </tr>\n    <tr>\n      <th>Gravity</th>\n      <td>0.378</td>\n      <td>0.907</td>\n      <td>1</td>\n      <td>0.377</td>\n      <td>2.36</td>\n      <td>0.916</td>\n      <td>0.889</td>\n      <td>1.12</td>\n      <td>0.071</td>\n    </tr>\n    <tr>\n      <th>Escape Velocity</th>\n      <td>0.384</td>\n      <td>0.926</td>\n      <td>1</td>\n      <td>0.450</td>\n      <td>5.32</td>\n      <td>3.17</td>\n      <td>1.90</td>\n      <td>2.10</td>\n      <td>0.116</td>\n    </tr>\n    <tr>\n      <th>Rotation Period</th>\n      <td>58.8</td>\n      <td>-244</td>\n      <td>1</td>\n      <td>1.03</td>\n      <td>0.415</td>\n      <td>0.445</td>\n      <td>-0.720</td>\n      <td>0.673</td>\n      <td>6.41</td>\n    </tr>\n    <tr>\n      <th>Length of Day</th>\n      <td>175.9</td>\n      <td>116.8</td>\n      <td>1</td>\n      <td>1.03</td>\n      <td>0.414</td>\n      <td>0.444</td>\n      <td>0.718</td>\n      <td>0.671</td>\n      <td>6.39</td>\n    </tr>\n    <tr>\n      <th>Distance from Sun</th>\n      <td>0.387</td>\n      <td>0.723</td>\n      <td>1</td>\n      <td>1.52</td>\n      <td>5.20</td>\n      <td>9.58</td>\n      <td>19.20</td>\n      <td>30.05</td>\n      <td>39.48</td>\n    </tr>\n    <tr>\n      <th>Perihelion</th>\n      <td>0.313</td>\n      <td>0.731</td>\n      <td>1</td>\n      <td>1.41</td>\n      <td>5.03</td>\n      <td>9.20</td>\n      <td>18.64</td>\n      <td>30.22</td>\n      <td>30.16</td>\n    </tr>\n    <tr>\n      <th>Aphelion</th>\n      <td>0.459</td>\n      <td>0.716</td>\n      <td>1</td>\n      <td>1.64</td>\n      <td>5.37</td>\n      <td>9.96</td>\n      <td>19.75</td>\n      <td>29.89</td>\n      <td>48.49</td>\n    </tr>\n    <tr>\n      <th>Orbital Period</th>\n      <td>0.241</td>\n      <td>0.615</td>\n      <td>1</td>\n      <td>1.88</td>\n      <td>11.9</td>\n      <td>29.4</td>\n      <td>83.7</td>\n      <td>163.7</td>\n      <td>247.9</td>\n    </tr>\n    <tr>\n      <th>Orbital Velocity</th>\n      <td>1.59</td>\n      <td>1.18</td>\n      <td>1</td>\n      <td>0.808</td>\n      <td>0.439</td>\n      <td>0.325</td>\n      <td>0.228</td>\n      <td>0.182</td>\n      <td>0.157</td>\n    </tr>\n    <tr>\n      <th>Orbital Eccentricity</th>\n      <td>12.3</td>\n      <td>0.401</td>\n      <td>1</td>\n      <td>5.60</td>\n      <td>2.93</td>\n      <td>3.38</td>\n      <td>2.74</td>\n      <td>0.677</td>\n      <td>14.6</td>\n    </tr>\n    <tr>\n      <th>Obliquity to Orbit</th>\n      <td>0.001</td>\n      <td>0.113*</td>\n      <td>1</td>\n      <td>1.07</td>\n      <td>0.134</td>\n      <td>1.14</td>\n      <td>4.17*</td>\n      <td>1.21</td>\n      <td>2.45*</td>\n    </tr>\n  </tbody>\n</table>\n</div>"
     },
     "metadata": {},
     "execution_count": 23
    }
   ],
   "source": [
    "# set the column \"Planet\" as the index\n",
    "transformed_ratio_data = ratio_fact_sheet_transformed.set_index('Planet')\n",
    "transformed_ratio_data"
   ]
  },
  {
   "cell_type": "code",
   "execution_count": 24,
   "metadata": {},
   "outputs": [
    {
     "output_type": "execute_result",
     "data": {
      "text/plain": [
       "Planet     Mass Diameter Density Gravity Escape Velocity Rotation Period  \\\n",
       "Mercury  0.0553    0.383   0.984   0.378           0.384            58.8   \n",
       "Venus     0.815    0.949   0.951   0.907           0.926            -244   \n",
       "Earth         1        1       1       1               1               1   \n",
       "Mars      0.107    0.532   0.713   0.377           0.450            1.03   \n",
       "Jupiter   317.8    11.21   0.240    2.36            5.32           0.415   \n",
       "Saturn     95.2     9.45   0.125   0.916            3.17           0.445   \n",
       "Uranus     14.5     4.01   0.230   0.889            1.90          -0.720   \n",
       "Neptune    17.1     3.88   0.297    1.12            2.10           0.673   \n",
       "Pluto    0.0025    0.186   0.380   0.071           0.116            6.41   \n",
       "\n",
       "Planet  Length of Day Distance from Sun Perihelion Aphelion Orbital Period  \\\n",
       "Mercury         175.9             0.387      0.313    0.459          0.241   \n",
       "Venus           116.8             0.723      0.731    0.716          0.615   \n",
       "Earth               1                 1          1        1              1   \n",
       "Mars             1.03              1.52       1.41     1.64           1.88   \n",
       "Jupiter         0.414              5.20       5.03     5.37           11.9   \n",
       "Saturn          0.444              9.58       9.20     9.96           29.4   \n",
       "Uranus          0.718             19.20      18.64    19.75           83.7   \n",
       "Neptune         0.671             30.05      30.22    29.89          163.7   \n",
       "Pluto            6.39             39.48      30.16    48.49          247.9   \n",
       "\n",
       "Planet  Orbital Velocity Orbital Eccentricity Obliquity to Orbit  \n",
       "Mercury             1.59                 12.3              0.001  \n",
       "Venus               1.18                0.401             0.113*  \n",
       "Earth                  1                    1                  1  \n",
       "Mars               0.808                 5.60               1.07  \n",
       "Jupiter            0.439                 2.93              0.134  \n",
       "Saturn             0.325                 3.38               1.14  \n",
       "Uranus             0.228                 2.74              4.17*  \n",
       "Neptune            0.182                0.677               1.21  \n",
       "Pluto              0.157                 14.6              2.45*  "
      ],
      "text/html": "<div>\n<style scoped>\n    .dataframe tbody tr th:only-of-type {\n        vertical-align: middle;\n    }\n\n    .dataframe tbody tr th {\n        vertical-align: top;\n    }\n\n    .dataframe thead th {\n        text-align: right;\n    }\n</style>\n<table border=\"1\" class=\"dataframe\">\n  <thead>\n    <tr style=\"text-align: right;\">\n      <th>Planet</th>\n      <th>Mass</th>\n      <th>Diameter</th>\n      <th>Density</th>\n      <th>Gravity</th>\n      <th>Escape Velocity</th>\n      <th>Rotation Period</th>\n      <th>Length of Day</th>\n      <th>Distance from Sun</th>\n      <th>Perihelion</th>\n      <th>Aphelion</th>\n      <th>Orbital Period</th>\n      <th>Orbital Velocity</th>\n      <th>Orbital Eccentricity</th>\n      <th>Obliquity to Orbit</th>\n    </tr>\n  </thead>\n  <tbody>\n    <tr>\n      <th>Mercury</th>\n      <td>0.0553</td>\n      <td>0.383</td>\n      <td>0.984</td>\n      <td>0.378</td>\n      <td>0.384</td>\n      <td>58.8</td>\n      <td>175.9</td>\n      <td>0.387</td>\n      <td>0.313</td>\n      <td>0.459</td>\n      <td>0.241</td>\n      <td>1.59</td>\n      <td>12.3</td>\n      <td>0.001</td>\n    </tr>\n    <tr>\n      <th>Venus</th>\n      <td>0.815</td>\n      <td>0.949</td>\n      <td>0.951</td>\n      <td>0.907</td>\n      <td>0.926</td>\n      <td>-244</td>\n      <td>116.8</td>\n      <td>0.723</td>\n      <td>0.731</td>\n      <td>0.716</td>\n      <td>0.615</td>\n      <td>1.18</td>\n      <td>0.401</td>\n      <td>0.113*</td>\n    </tr>\n    <tr>\n      <th>Earth</th>\n      <td>1</td>\n      <td>1</td>\n      <td>1</td>\n      <td>1</td>\n      <td>1</td>\n      <td>1</td>\n      <td>1</td>\n      <td>1</td>\n      <td>1</td>\n      <td>1</td>\n      <td>1</td>\n      <td>1</td>\n      <td>1</td>\n      <td>1</td>\n    </tr>\n    <tr>\n      <th>Mars</th>\n      <td>0.107</td>\n      <td>0.532</td>\n      <td>0.713</td>\n      <td>0.377</td>\n      <td>0.450</td>\n      <td>1.03</td>\n      <td>1.03</td>\n      <td>1.52</td>\n      <td>1.41</td>\n      <td>1.64</td>\n      <td>1.88</td>\n      <td>0.808</td>\n      <td>5.60</td>\n      <td>1.07</td>\n    </tr>\n    <tr>\n      <th>Jupiter</th>\n      <td>317.8</td>\n      <td>11.21</td>\n      <td>0.240</td>\n      <td>2.36</td>\n      <td>5.32</td>\n      <td>0.415</td>\n      <td>0.414</td>\n      <td>5.20</td>\n      <td>5.03</td>\n      <td>5.37</td>\n      <td>11.9</td>\n      <td>0.439</td>\n      <td>2.93</td>\n      <td>0.134</td>\n    </tr>\n    <tr>\n      <th>Saturn</th>\n      <td>95.2</td>\n      <td>9.45</td>\n      <td>0.125</td>\n      <td>0.916</td>\n      <td>3.17</td>\n      <td>0.445</td>\n      <td>0.444</td>\n      <td>9.58</td>\n      <td>9.20</td>\n      <td>9.96</td>\n      <td>29.4</td>\n      <td>0.325</td>\n      <td>3.38</td>\n      <td>1.14</td>\n    </tr>\n    <tr>\n      <th>Uranus</th>\n      <td>14.5</td>\n      <td>4.01</td>\n      <td>0.230</td>\n      <td>0.889</td>\n      <td>1.90</td>\n      <td>-0.720</td>\n      <td>0.718</td>\n      <td>19.20</td>\n      <td>18.64</td>\n      <td>19.75</td>\n      <td>83.7</td>\n      <td>0.228</td>\n      <td>2.74</td>\n      <td>4.17*</td>\n    </tr>\n    <tr>\n      <th>Neptune</th>\n      <td>17.1</td>\n      <td>3.88</td>\n      <td>0.297</td>\n      <td>1.12</td>\n      <td>2.10</td>\n      <td>0.673</td>\n      <td>0.671</td>\n      <td>30.05</td>\n      <td>30.22</td>\n      <td>29.89</td>\n      <td>163.7</td>\n      <td>0.182</td>\n      <td>0.677</td>\n      <td>1.21</td>\n    </tr>\n    <tr>\n      <th>Pluto</th>\n      <td>0.0025</td>\n      <td>0.186</td>\n      <td>0.380</td>\n      <td>0.071</td>\n      <td>0.116</td>\n      <td>6.41</td>\n      <td>6.39</td>\n      <td>39.48</td>\n      <td>30.16</td>\n      <td>48.49</td>\n      <td>247.9</td>\n      <td>0.157</td>\n      <td>14.6</td>\n      <td>2.45*</td>\n    </tr>\n  </tbody>\n</table>\n</div>"
     },
     "metadata": {},
     "execution_count": 24
    }
   ],
   "source": [
    "# performed a transpose function on the table to set the planets as the rows\n",
    "planets_ratio_fact_sheet_transformed = transformed_ratio_data.T\n",
    "planets_ratio_fact_sheet_transformed"
   ]
  },
  {
   "cell_type": "code",
   "execution_count": 25,
   "metadata": {},
   "outputs": [
    {
     "output_type": "execute_result",
     "data": {
      "text/plain": [
       "Planet     Mass Diameter Density Gravity Escape Velocity Rotation Period  \\\n",
       "Mercury  0.0553    0.383   0.984   0.378           0.384            58.8   \n",
       "Venus     0.815    0.949   0.951   0.907           0.926            -244   \n",
       "Earth         1        1       1       1               1               1   \n",
       "Mars      0.107    0.532   0.713   0.377           0.450            1.03   \n",
       "Jupiter   317.8    11.21   0.240    2.36            5.32           0.415   \n",
       "Saturn     95.2     9.45   0.125   0.916            3.17           0.445   \n",
       "Uranus     14.5     4.01   0.230   0.889            1.90          -0.720   \n",
       "Neptune    17.1     3.88   0.297    1.12            2.10           0.673   \n",
       "Pluto    0.0025    0.186   0.380   0.071           0.116            6.41   \n",
       "\n",
       "Planet  Length of Day Distance from Sun Perihelion Aphelion Orbital Period  \\\n",
       "Mercury         175.9             0.387      0.313    0.459          0.241   \n",
       "Venus           116.8             0.723      0.731    0.716          0.615   \n",
       "Earth               1                 1          1        1              1   \n",
       "Mars             1.03              1.52       1.41     1.64           1.88   \n",
       "Jupiter         0.414              5.20       5.03     5.37           11.9   \n",
       "Saturn          0.444              9.58       9.20     9.96           29.4   \n",
       "Uranus          0.718             19.20      18.64    19.75           83.7   \n",
       "Neptune         0.671             30.05      30.22    29.89          163.7   \n",
       "Pluto            6.39             39.48      30.16    48.49          247.9   \n",
       "\n",
       "Planet  Orbital Velocity Orbital Eccentricity Obliquity to Orbit  \n",
       "Mercury             1.59                 12.3              0.001  \n",
       "Venus               1.18                0.401              0.113  \n",
       "Earth                  1                    1                  1  \n",
       "Mars               0.808                 5.60               1.07  \n",
       "Jupiter            0.439                 2.93              0.134  \n",
       "Saturn             0.325                 3.38               1.14  \n",
       "Uranus             0.228                 2.74               4.17  \n",
       "Neptune            0.182                0.677               1.21  \n",
       "Pluto              0.157                 14.6               2.45  "
      ],
      "text/html": "<div>\n<style scoped>\n    .dataframe tbody tr th:only-of-type {\n        vertical-align: middle;\n    }\n\n    .dataframe tbody tr th {\n        vertical-align: top;\n    }\n\n    .dataframe thead th {\n        text-align: right;\n    }\n</style>\n<table border=\"1\" class=\"dataframe\">\n  <thead>\n    <tr style=\"text-align: right;\">\n      <th>Planet</th>\n      <th>Mass</th>\n      <th>Diameter</th>\n      <th>Density</th>\n      <th>Gravity</th>\n      <th>Escape Velocity</th>\n      <th>Rotation Period</th>\n      <th>Length of Day</th>\n      <th>Distance from Sun</th>\n      <th>Perihelion</th>\n      <th>Aphelion</th>\n      <th>Orbital Period</th>\n      <th>Orbital Velocity</th>\n      <th>Orbital Eccentricity</th>\n      <th>Obliquity to Orbit</th>\n    </tr>\n  </thead>\n  <tbody>\n    <tr>\n      <th>Mercury</th>\n      <td>0.0553</td>\n      <td>0.383</td>\n      <td>0.984</td>\n      <td>0.378</td>\n      <td>0.384</td>\n      <td>58.8</td>\n      <td>175.9</td>\n      <td>0.387</td>\n      <td>0.313</td>\n      <td>0.459</td>\n      <td>0.241</td>\n      <td>1.59</td>\n      <td>12.3</td>\n      <td>0.001</td>\n    </tr>\n    <tr>\n      <th>Venus</th>\n      <td>0.815</td>\n      <td>0.949</td>\n      <td>0.951</td>\n      <td>0.907</td>\n      <td>0.926</td>\n      <td>-244</td>\n      <td>116.8</td>\n      <td>0.723</td>\n      <td>0.731</td>\n      <td>0.716</td>\n      <td>0.615</td>\n      <td>1.18</td>\n      <td>0.401</td>\n      <td>0.113</td>\n    </tr>\n    <tr>\n      <th>Earth</th>\n      <td>1</td>\n      <td>1</td>\n      <td>1</td>\n      <td>1</td>\n      <td>1</td>\n      <td>1</td>\n      <td>1</td>\n      <td>1</td>\n      <td>1</td>\n      <td>1</td>\n      <td>1</td>\n      <td>1</td>\n      <td>1</td>\n      <td>1</td>\n    </tr>\n    <tr>\n      <th>Mars</th>\n      <td>0.107</td>\n      <td>0.532</td>\n      <td>0.713</td>\n      <td>0.377</td>\n      <td>0.450</td>\n      <td>1.03</td>\n      <td>1.03</td>\n      <td>1.52</td>\n      <td>1.41</td>\n      <td>1.64</td>\n      <td>1.88</td>\n      <td>0.808</td>\n      <td>5.60</td>\n      <td>1.07</td>\n    </tr>\n    <tr>\n      <th>Jupiter</th>\n      <td>317.8</td>\n      <td>11.21</td>\n      <td>0.240</td>\n      <td>2.36</td>\n      <td>5.32</td>\n      <td>0.415</td>\n      <td>0.414</td>\n      <td>5.20</td>\n      <td>5.03</td>\n      <td>5.37</td>\n      <td>11.9</td>\n      <td>0.439</td>\n      <td>2.93</td>\n      <td>0.134</td>\n    </tr>\n    <tr>\n      <th>Saturn</th>\n      <td>95.2</td>\n      <td>9.45</td>\n      <td>0.125</td>\n      <td>0.916</td>\n      <td>3.17</td>\n      <td>0.445</td>\n      <td>0.444</td>\n      <td>9.58</td>\n      <td>9.20</td>\n      <td>9.96</td>\n      <td>29.4</td>\n      <td>0.325</td>\n      <td>3.38</td>\n      <td>1.14</td>\n    </tr>\n    <tr>\n      <th>Uranus</th>\n      <td>14.5</td>\n      <td>4.01</td>\n      <td>0.230</td>\n      <td>0.889</td>\n      <td>1.90</td>\n      <td>-0.720</td>\n      <td>0.718</td>\n      <td>19.20</td>\n      <td>18.64</td>\n      <td>19.75</td>\n      <td>83.7</td>\n      <td>0.228</td>\n      <td>2.74</td>\n      <td>4.17</td>\n    </tr>\n    <tr>\n      <th>Neptune</th>\n      <td>17.1</td>\n      <td>3.88</td>\n      <td>0.297</td>\n      <td>1.12</td>\n      <td>2.10</td>\n      <td>0.673</td>\n      <td>0.671</td>\n      <td>30.05</td>\n      <td>30.22</td>\n      <td>29.89</td>\n      <td>163.7</td>\n      <td>0.182</td>\n      <td>0.677</td>\n      <td>1.21</td>\n    </tr>\n    <tr>\n      <th>Pluto</th>\n      <td>0.0025</td>\n      <td>0.186</td>\n      <td>0.380</td>\n      <td>0.071</td>\n      <td>0.116</td>\n      <td>6.41</td>\n      <td>6.39</td>\n      <td>39.48</td>\n      <td>30.16</td>\n      <td>48.49</td>\n      <td>247.9</td>\n      <td>0.157</td>\n      <td>14.6</td>\n      <td>2.45</td>\n    </tr>\n  </tbody>\n</table>\n</div>"
     },
     "metadata": {},
     "execution_count": 25
    }
   ],
   "source": [
    "# remove the asterisks value in column \"Obliquity to Orbit\"\n",
    "planets_ratio_fact_sheet_transformed['Obliquity to Orbit'] = planets_ratio_fact_sheet_transformed['Obliquity to Orbit'].str.replace(r'\\*', '')\n",
    "planets_ratio_fact_sheet_transformed"
   ]
  },
  {
   "cell_type": "code",
   "execution_count": 26,
   "metadata": {},
   "outputs": [
    {
     "output_type": "execute_result",
     "data": {
      "text/plain": [
       "Planet  Mass per 1024kg Diameter per km Density per kg/m3 Gravity per m/s2  \\\n",
       "Mercury          0.0553           0.383             0.984            0.378   \n",
       "Venus             0.815           0.949             0.951            0.907   \n",
       "Earth                 1               1                 1                1   \n",
       "Mars              0.107           0.532             0.713            0.377   \n",
       "Jupiter           317.8           11.21             0.240             2.36   \n",
       "Saturn             95.2            9.45             0.125            0.916   \n",
       "Uranus             14.5            4.01             0.230            0.889   \n",
       "Neptune            17.1            3.88             0.297             1.12   \n",
       "Pluto            0.0025           0.186             0.380            0.071   \n",
       "\n",
       "Planet  Escape Velocity per km/s Rotation Period per hours  \\\n",
       "Mercury                    0.384                      58.8   \n",
       "Venus                      0.926                      -244   \n",
       "Earth                          1                         1   \n",
       "Mars                       0.450                      1.03   \n",
       "Jupiter                     5.32                     0.415   \n",
       "Saturn                      3.17                     0.445   \n",
       "Uranus                      1.90                    -0.720   \n",
       "Neptune                     2.10                     0.673   \n",
       "Pluto                      0.116                      6.41   \n",
       "\n",
       "Planet  Length of Day per hours Distance from Sun per 106 km  \\\n",
       "Mercury                   175.9                        0.387   \n",
       "Venus                     116.8                        0.723   \n",
       "Earth                         1                            1   \n",
       "Mars                       1.03                         1.52   \n",
       "Jupiter                   0.414                         5.20   \n",
       "Saturn                    0.444                         9.58   \n",
       "Uranus                    0.718                        19.20   \n",
       "Neptune                   0.671                        30.05   \n",
       "Pluto                      6.39                        39.48   \n",
       "\n",
       "Planet  Perihelion per 106 km Aphelion per 106 km Orbital Period per days  \\\n",
       "Mercury                 0.313               0.459                   0.241   \n",
       "Venus                   0.731               0.716                   0.615   \n",
       "Earth                       1                   1                       1   \n",
       "Mars                     1.41                1.64                    1.88   \n",
       "Jupiter                  5.03                5.37                    11.9   \n",
       "Saturn                   9.20                9.96                    29.4   \n",
       "Uranus                  18.64               19.75                    83.7   \n",
       "Neptune                 30.22               29.89                   163.7   \n",
       "Pluto                   30.16               48.49                   247.9   \n",
       "\n",
       "Planet  Orbital Velocity per km/s Orbital Eccentricity  \\\n",
       "Mercury                      1.59                 12.3   \n",
       "Venus                        1.18                0.401   \n",
       "Earth                           1                    1   \n",
       "Mars                        0.808                 5.60   \n",
       "Jupiter                     0.439                 2.93   \n",
       "Saturn                      0.325                 3.38   \n",
       "Uranus                      0.228                 2.74   \n",
       "Neptune                     0.182                0.677   \n",
       "Pluto                       0.157                 14.6   \n",
       "\n",
       "Planet  Obliquity to Orbit per degrees  \n",
       "Mercury                          0.001  \n",
       "Venus                            0.113  \n",
       "Earth                                1  \n",
       "Mars                              1.07  \n",
       "Jupiter                          0.134  \n",
       "Saturn                            1.14  \n",
       "Uranus                            4.17  \n",
       "Neptune                           1.21  \n",
       "Pluto                             2.45  "
      ],
      "text/html": "<div>\n<style scoped>\n    .dataframe tbody tr th:only-of-type {\n        vertical-align: middle;\n    }\n\n    .dataframe tbody tr th {\n        vertical-align: top;\n    }\n\n    .dataframe thead th {\n        text-align: right;\n    }\n</style>\n<table border=\"1\" class=\"dataframe\">\n  <thead>\n    <tr style=\"text-align: right;\">\n      <th>Planet</th>\n      <th>Mass per 1024kg</th>\n      <th>Diameter per km</th>\n      <th>Density per kg/m3</th>\n      <th>Gravity per m/s2</th>\n      <th>Escape Velocity per km/s</th>\n      <th>Rotation Period per hours</th>\n      <th>Length of Day per hours</th>\n      <th>Distance from Sun per 106 km</th>\n      <th>Perihelion per 106 km</th>\n      <th>Aphelion per 106 km</th>\n      <th>Orbital Period per days</th>\n      <th>Orbital Velocity per km/s</th>\n      <th>Orbital Eccentricity</th>\n      <th>Obliquity to Orbit per degrees</th>\n    </tr>\n  </thead>\n  <tbody>\n    <tr>\n      <th>Mercury</th>\n      <td>0.0553</td>\n      <td>0.383</td>\n      <td>0.984</td>\n      <td>0.378</td>\n      <td>0.384</td>\n      <td>58.8</td>\n      <td>175.9</td>\n      <td>0.387</td>\n      <td>0.313</td>\n      <td>0.459</td>\n      <td>0.241</td>\n      <td>1.59</td>\n      <td>12.3</td>\n      <td>0.001</td>\n    </tr>\n    <tr>\n      <th>Venus</th>\n      <td>0.815</td>\n      <td>0.949</td>\n      <td>0.951</td>\n      <td>0.907</td>\n      <td>0.926</td>\n      <td>-244</td>\n      <td>116.8</td>\n      <td>0.723</td>\n      <td>0.731</td>\n      <td>0.716</td>\n      <td>0.615</td>\n      <td>1.18</td>\n      <td>0.401</td>\n      <td>0.113</td>\n    </tr>\n    <tr>\n      <th>Earth</th>\n      <td>1</td>\n      <td>1</td>\n      <td>1</td>\n      <td>1</td>\n      <td>1</td>\n      <td>1</td>\n      <td>1</td>\n      <td>1</td>\n      <td>1</td>\n      <td>1</td>\n      <td>1</td>\n      <td>1</td>\n      <td>1</td>\n      <td>1</td>\n    </tr>\n    <tr>\n      <th>Mars</th>\n      <td>0.107</td>\n      <td>0.532</td>\n      <td>0.713</td>\n      <td>0.377</td>\n      <td>0.450</td>\n      <td>1.03</td>\n      <td>1.03</td>\n      <td>1.52</td>\n      <td>1.41</td>\n      <td>1.64</td>\n      <td>1.88</td>\n      <td>0.808</td>\n      <td>5.60</td>\n      <td>1.07</td>\n    </tr>\n    <tr>\n      <th>Jupiter</th>\n      <td>317.8</td>\n      <td>11.21</td>\n      <td>0.240</td>\n      <td>2.36</td>\n      <td>5.32</td>\n      <td>0.415</td>\n      <td>0.414</td>\n      <td>5.20</td>\n      <td>5.03</td>\n      <td>5.37</td>\n      <td>11.9</td>\n      <td>0.439</td>\n      <td>2.93</td>\n      <td>0.134</td>\n    </tr>\n    <tr>\n      <th>Saturn</th>\n      <td>95.2</td>\n      <td>9.45</td>\n      <td>0.125</td>\n      <td>0.916</td>\n      <td>3.17</td>\n      <td>0.445</td>\n      <td>0.444</td>\n      <td>9.58</td>\n      <td>9.20</td>\n      <td>9.96</td>\n      <td>29.4</td>\n      <td>0.325</td>\n      <td>3.38</td>\n      <td>1.14</td>\n    </tr>\n    <tr>\n      <th>Uranus</th>\n      <td>14.5</td>\n      <td>4.01</td>\n      <td>0.230</td>\n      <td>0.889</td>\n      <td>1.90</td>\n      <td>-0.720</td>\n      <td>0.718</td>\n      <td>19.20</td>\n      <td>18.64</td>\n      <td>19.75</td>\n      <td>83.7</td>\n      <td>0.228</td>\n      <td>2.74</td>\n      <td>4.17</td>\n    </tr>\n    <tr>\n      <th>Neptune</th>\n      <td>17.1</td>\n      <td>3.88</td>\n      <td>0.297</td>\n      <td>1.12</td>\n      <td>2.10</td>\n      <td>0.673</td>\n      <td>0.671</td>\n      <td>30.05</td>\n      <td>30.22</td>\n      <td>29.89</td>\n      <td>163.7</td>\n      <td>0.182</td>\n      <td>0.677</td>\n      <td>1.21</td>\n    </tr>\n    <tr>\n      <th>Pluto</th>\n      <td>0.0025</td>\n      <td>0.186</td>\n      <td>0.380</td>\n      <td>0.071</td>\n      <td>0.116</td>\n      <td>6.41</td>\n      <td>6.39</td>\n      <td>39.48</td>\n      <td>30.16</td>\n      <td>48.49</td>\n      <td>247.9</td>\n      <td>0.157</td>\n      <td>14.6</td>\n      <td>2.45</td>\n    </tr>\n  </tbody>\n</table>\n</div>"
     },
     "metadata": {},
     "execution_count": 26
    }
   ],
   "source": [
    "# renamed the columns\n",
    "planetary_ratio_fact_sheet = planets_ratio_fact_sheet_transformed.rename(columns = {\"Mass\" : \"Mass per 1024kg\",\n",
    "                                                                            \"Diameter\" : \"Diameter per km\",\n",
    "                                                                            \"Density\" : \"Density per kg/m3\",\n",
    "                                                                            \"Gravity\" : \"Gravity per m/s2\",\n",
    "                                                                            \"Escape Velocity\" : \"Escape Velocity per km/s\",\n",
    "                                                                            \"Rotation Period\" : \"Rotation Period per hours\",\n",
    "                                                                            \"Length of Day\" : \"Length of Day per hours\",\n",
    "                                                                            \"Distance from Sun\" : \"Distance from Sun per 106 km\",\n",
    "                                                                            \"Perihelion\" : \"Perihelion per 106 km\",\n",
    "                                                                            \"Aphelion\" : \"Aphelion per 106 km\",\n",
    "                                                                            \"Orbital Period\" : \"Orbital Period per days\",\n",
    "                                                                            \"Orbital Velocity\" : \"Orbital Velocity per km/s\",\n",
    "                                                                            \"Orbital Eccentricity\" : \"Orbital Eccentricity\",\n",
    "                                                                            \"Obliquity to Orbit\" : \"Obliquity to Orbit per degrees\"})\n",
    "planetary_ratio_fact_sheet"
   ]
  },
  {
   "cell_type": "code",
   "execution_count": 27,
   "metadata": {},
   "outputs": [],
   "source": [
    "# export the DataFrame to a csv file\n",
    "planetary_ratio_fact_sheet.to_csv(\"Transformed_Data/planetary_ratio_fact_sheet_transformed.csv\", index_label='Planet')"
   ]
  },
  {
   "cell_type": "code",
   "execution_count": null,
   "metadata": {},
   "outputs": [],
   "source": []
  }
 ]
}