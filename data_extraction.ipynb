{
 "metadata": {
  "language_info": {
   "codemirror_mode": {
    "name": "ipython",
    "version": 3
   },
   "file_extension": ".py",
   "mimetype": "text/x-python",
   "name": "python",
   "nbconvert_exporter": "python",
   "pygments_lexer": "ipython3",
   "version": "3.7.9-final"
  },
  "orig_nbformat": 2,
  "kernelspec": {
   "name": "python3",
   "display_name": "Python 3"
  }
 },
 "nbformat": 4,
 "nbformat_minor": 2,
 "cells": [
  {
   "cell_type": "code",
   "execution_count": 19,
   "metadata": {},
   "outputs": [],
   "source": [
    "# import dependencies\n",
    "import pandas as pd"
   ]
  },
  {
   "cell_type": "code",
   "execution_count": 14,
   "metadata": {},
   "outputs": [
    {
     "output_type": "execute_result",
     "data": {
      "text/plain": [
       "                       Unnamed: 0  MERCURY    VENUS  EARTH    MOON   MARS  \\\n",
       "0                   Mass (1024kg)    0.330     4.87   5.97   0.073  0.642   \n",
       "1                   Diameter (km)     4879    12104  12756    3475   6792   \n",
       "2                 Density (kg/m3)     5427     5243   5514    3340   3933   \n",
       "3                  Gravity (m/s2)      3.7      8.9    9.8     1.6    3.7   \n",
       "4          Escape Velocity (km/s)      4.3     10.4   11.2     2.4    5.0   \n",
       "5         Rotation Period (hours)   1407.6  -5832.5   23.9   655.7   24.6   \n",
       "6           Length of Day (hours)   4222.6   2802.0   24.0   708.7   24.7   \n",
       "7      Distance from Sun (106 km)     57.9    108.2  149.6  0.384*  227.9   \n",
       "8             Perihelion (106 km)     46.0    107.5  147.1  0.363*  206.6   \n",
       "9               Aphelion (106 km)     69.8    108.9  152.1  0.406*  249.2   \n",
       "10          Orbital Period (days)     88.0    224.7  365.2   27.3*  687.0   \n",
       "11        Orbital Velocity (km/s)     47.4     35.0   29.8    1.0*   24.1   \n",
       "12  Orbital Inclination (degrees)      7.0      3.4    0.0     5.1    1.9   \n",
       "13           Orbital Eccentricity    0.205    0.007  0.017   0.055  0.094   \n",
       "14   Obliquity to Orbit (degrees)    0.034    177.4   23.4     6.7   25.2   \n",
       "15           Mean Temperature (C)      167      464     15     -20    -65   \n",
       "16        Surface Pressure (bars)        0       92      1       0   0.01   \n",
       "17                Number of Moons        0        0      1       0      2   \n",
       "18                   Ring System?       No       No     No      No     No   \n",
       "19         Global Magnetic Field?      Yes       No    Yes      No     No   \n",
       "20                            NaN  MERCURY    VENUS  EARTH    MOON   MARS   \n",
       "\n",
       "     JUPITER    SATURN    URANUS   NEPTUNE    PLUTO  \n",
       "0       1898       568      86.8       102   0.0146  \n",
       "1     142984    120536     51118     49528     2370  \n",
       "2       1326       687      1271      1638     2095  \n",
       "3       23.1       9.0       8.7      11.0      0.7  \n",
       "4       59.5      35.5      21.3      23.5      1.3  \n",
       "5        9.9      10.7     -17.2      16.1   -153.3  \n",
       "6        9.9      10.7      17.2      16.1    153.3  \n",
       "7      778.6    1433.5    2872.5    4495.1   5906.4  \n",
       "8      740.5    1352.6    2741.3    4444.5   4436.8  \n",
       "9      816.6    1514.5    3003.6    4545.7   7375.9  \n",
       "10      4331     10747     30589     59800    90560  \n",
       "11      13.1       9.7       6.8       5.4      4.7  \n",
       "12       1.3       2.5       0.8       1.8     17.2  \n",
       "13     0.049     0.057     0.046     0.011    0.244  \n",
       "14       3.1      26.7      97.8      28.3    122.5  \n",
       "15      -110      -140      -195      -200     -225  \n",
       "16  Unknown*  Unknown*  Unknown*  Unknown*  0.00001  \n",
       "17        79        82        27        14        5  \n",
       "18       Yes       Yes       Yes       Yes       No  \n",
       "19       Yes       Yes       Yes       Yes  Unknown  \n",
       "20   JUPITER    SATURN    URANUS   NEPTUNE    PLUTO  "
      ],
      "text/html": "<div>\n<style scoped>\n    .dataframe tbody tr th:only-of-type {\n        vertical-align: middle;\n    }\n\n    .dataframe tbody tr th {\n        vertical-align: top;\n    }\n\n    .dataframe thead th {\n        text-align: right;\n    }\n</style>\n<table border=\"1\" class=\"dataframe\">\n  <thead>\n    <tr style=\"text-align: right;\">\n      <th></th>\n      <th>Unnamed: 0</th>\n      <th>MERCURY</th>\n      <th>VENUS</th>\n      <th>EARTH</th>\n      <th>MOON</th>\n      <th>MARS</th>\n      <th>JUPITER</th>\n      <th>SATURN</th>\n      <th>URANUS</th>\n      <th>NEPTUNE</th>\n      <th>PLUTO</th>\n    </tr>\n  </thead>\n  <tbody>\n    <tr>\n      <th>0</th>\n      <td>Mass (1024kg)</td>\n      <td>0.330</td>\n      <td>4.87</td>\n      <td>5.97</td>\n      <td>0.073</td>\n      <td>0.642</td>\n      <td>1898</td>\n      <td>568</td>\n      <td>86.8</td>\n      <td>102</td>\n      <td>0.0146</td>\n    </tr>\n    <tr>\n      <th>1</th>\n      <td>Diameter (km)</td>\n      <td>4879</td>\n      <td>12104</td>\n      <td>12756</td>\n      <td>3475</td>\n      <td>6792</td>\n      <td>142984</td>\n      <td>120536</td>\n      <td>51118</td>\n      <td>49528</td>\n      <td>2370</td>\n    </tr>\n    <tr>\n      <th>2</th>\n      <td>Density (kg/m3)</td>\n      <td>5427</td>\n      <td>5243</td>\n      <td>5514</td>\n      <td>3340</td>\n      <td>3933</td>\n      <td>1326</td>\n      <td>687</td>\n      <td>1271</td>\n      <td>1638</td>\n      <td>2095</td>\n    </tr>\n    <tr>\n      <th>3</th>\n      <td>Gravity (m/s2)</td>\n      <td>3.7</td>\n      <td>8.9</td>\n      <td>9.8</td>\n      <td>1.6</td>\n      <td>3.7</td>\n      <td>23.1</td>\n      <td>9.0</td>\n      <td>8.7</td>\n      <td>11.0</td>\n      <td>0.7</td>\n    </tr>\n    <tr>\n      <th>4</th>\n      <td>Escape Velocity (km/s)</td>\n      <td>4.3</td>\n      <td>10.4</td>\n      <td>11.2</td>\n      <td>2.4</td>\n      <td>5.0</td>\n      <td>59.5</td>\n      <td>35.5</td>\n      <td>21.3</td>\n      <td>23.5</td>\n      <td>1.3</td>\n    </tr>\n    <tr>\n      <th>5</th>\n      <td>Rotation Period (hours)</td>\n      <td>1407.6</td>\n      <td>-5832.5</td>\n      <td>23.9</td>\n      <td>655.7</td>\n      <td>24.6</td>\n      <td>9.9</td>\n      <td>10.7</td>\n      <td>-17.2</td>\n      <td>16.1</td>\n      <td>-153.3</td>\n    </tr>\n    <tr>\n      <th>6</th>\n      <td>Length of Day (hours)</td>\n      <td>4222.6</td>\n      <td>2802.0</td>\n      <td>24.0</td>\n      <td>708.7</td>\n      <td>24.7</td>\n      <td>9.9</td>\n      <td>10.7</td>\n      <td>17.2</td>\n      <td>16.1</td>\n      <td>153.3</td>\n    </tr>\n    <tr>\n      <th>7</th>\n      <td>Distance from Sun (106 km)</td>\n      <td>57.9</td>\n      <td>108.2</td>\n      <td>149.6</td>\n      <td>0.384*</td>\n      <td>227.9</td>\n      <td>778.6</td>\n      <td>1433.5</td>\n      <td>2872.5</td>\n      <td>4495.1</td>\n      <td>5906.4</td>\n    </tr>\n    <tr>\n      <th>8</th>\n      <td>Perihelion (106 km)</td>\n      <td>46.0</td>\n      <td>107.5</td>\n      <td>147.1</td>\n      <td>0.363*</td>\n      <td>206.6</td>\n      <td>740.5</td>\n      <td>1352.6</td>\n      <td>2741.3</td>\n      <td>4444.5</td>\n      <td>4436.8</td>\n    </tr>\n    <tr>\n      <th>9</th>\n      <td>Aphelion (106 km)</td>\n      <td>69.8</td>\n      <td>108.9</td>\n      <td>152.1</td>\n      <td>0.406*</td>\n      <td>249.2</td>\n      <td>816.6</td>\n      <td>1514.5</td>\n      <td>3003.6</td>\n      <td>4545.7</td>\n      <td>7375.9</td>\n    </tr>\n    <tr>\n      <th>10</th>\n      <td>Orbital Period (days)</td>\n      <td>88.0</td>\n      <td>224.7</td>\n      <td>365.2</td>\n      <td>27.3*</td>\n      <td>687.0</td>\n      <td>4331</td>\n      <td>10747</td>\n      <td>30589</td>\n      <td>59800</td>\n      <td>90560</td>\n    </tr>\n    <tr>\n      <th>11</th>\n      <td>Orbital Velocity (km/s)</td>\n      <td>47.4</td>\n      <td>35.0</td>\n      <td>29.8</td>\n      <td>1.0*</td>\n      <td>24.1</td>\n      <td>13.1</td>\n      <td>9.7</td>\n      <td>6.8</td>\n      <td>5.4</td>\n      <td>4.7</td>\n    </tr>\n    <tr>\n      <th>12</th>\n      <td>Orbital Inclination (degrees)</td>\n      <td>7.0</td>\n      <td>3.4</td>\n      <td>0.0</td>\n      <td>5.1</td>\n      <td>1.9</td>\n      <td>1.3</td>\n      <td>2.5</td>\n      <td>0.8</td>\n      <td>1.8</td>\n      <td>17.2</td>\n    </tr>\n    <tr>\n      <th>13</th>\n      <td>Orbital Eccentricity</td>\n      <td>0.205</td>\n      <td>0.007</td>\n      <td>0.017</td>\n      <td>0.055</td>\n      <td>0.094</td>\n      <td>0.049</td>\n      <td>0.057</td>\n      <td>0.046</td>\n      <td>0.011</td>\n      <td>0.244</td>\n    </tr>\n    <tr>\n      <th>14</th>\n      <td>Obliquity to Orbit (degrees)</td>\n      <td>0.034</td>\n      <td>177.4</td>\n      <td>23.4</td>\n      <td>6.7</td>\n      <td>25.2</td>\n      <td>3.1</td>\n      <td>26.7</td>\n      <td>97.8</td>\n      <td>28.3</td>\n      <td>122.5</td>\n    </tr>\n    <tr>\n      <th>15</th>\n      <td>Mean Temperature (C)</td>\n      <td>167</td>\n      <td>464</td>\n      <td>15</td>\n      <td>-20</td>\n      <td>-65</td>\n      <td>-110</td>\n      <td>-140</td>\n      <td>-195</td>\n      <td>-200</td>\n      <td>-225</td>\n    </tr>\n    <tr>\n      <th>16</th>\n      <td>Surface Pressure (bars)</td>\n      <td>0</td>\n      <td>92</td>\n      <td>1</td>\n      <td>0</td>\n      <td>0.01</td>\n      <td>Unknown*</td>\n      <td>Unknown*</td>\n      <td>Unknown*</td>\n      <td>Unknown*</td>\n      <td>0.00001</td>\n    </tr>\n    <tr>\n      <th>17</th>\n      <td>Number of Moons</td>\n      <td>0</td>\n      <td>0</td>\n      <td>1</td>\n      <td>0</td>\n      <td>2</td>\n      <td>79</td>\n      <td>82</td>\n      <td>27</td>\n      <td>14</td>\n      <td>5</td>\n    </tr>\n    <tr>\n      <th>18</th>\n      <td>Ring System?</td>\n      <td>No</td>\n      <td>No</td>\n      <td>No</td>\n      <td>No</td>\n      <td>No</td>\n      <td>Yes</td>\n      <td>Yes</td>\n      <td>Yes</td>\n      <td>Yes</td>\n      <td>No</td>\n    </tr>\n    <tr>\n      <th>19</th>\n      <td>Global Magnetic Field?</td>\n      <td>Yes</td>\n      <td>No</td>\n      <td>Yes</td>\n      <td>No</td>\n      <td>No</td>\n      <td>Yes</td>\n      <td>Yes</td>\n      <td>Yes</td>\n      <td>Yes</td>\n      <td>Unknown</td>\n    </tr>\n    <tr>\n      <th>20</th>\n      <td>NaN</td>\n      <td>MERCURY</td>\n      <td>VENUS</td>\n      <td>EARTH</td>\n      <td>MOON</td>\n      <td>MARS</td>\n      <td>JUPITER</td>\n      <td>SATURN</td>\n      <td>URANUS</td>\n      <td>NEPTUNE</td>\n      <td>PLUTO</td>\n    </tr>\n  </tbody>\n</table>\n</div>"
     },
     "metadata": {},
     "execution_count": 14
    }
   ],
   "source": [
    "# this is to grab the data from the factsheet url\n",
    "url = \"https://nssdc.gsfc.nasa.gov/planetary/factsheet/\"\n",
    "\n",
    "# Use panda's `read_html` to parse the url\n",
    "planets_factsheet = pd.read_html(url, header=0)[0]\n",
    "planets_factsheet"
   ]
  },
  {
   "cell_type": "code",
   "execution_count": 15,
   "metadata": {},
   "outputs": [],
   "source": [
    "# save the dataframe to a CSV file\n",
    "planets_factsheet.to_csv(\"Resources/planetary_fact_sheet.csv\")"
   ]
  },
  {
   "cell_type": "code",
   "execution_count": 16,
   "metadata": {},
   "outputs": [
    {
     "output_type": "execute_result",
     "data": {
      "text/plain": [
       "                Unnamed: 0  MERCURY   VENUS  EARTH      MOON   MARS   JUPITER  \\\n",
       "0                     Mass   0.0553   0.815      1    0.0123  0.107     317.8   \n",
       "1                 Diameter    0.383   0.949      1    0.2724  0.532     11.21   \n",
       "2                  Density    0.984   0.951      1     0.605  0.713     0.240   \n",
       "3                  Gravity    0.378   0.907      1     0.166  0.377      2.36   \n",
       "4          Escape Velocity    0.384   0.926      1     0.213  0.450      5.32   \n",
       "5          Rotation Period     58.8    -244      1      27.4   1.03     0.415   \n",
       "6            Length of Day    175.9   116.8      1      29.5   1.03     0.414   \n",
       "7        Distance from Sun    0.387   0.723      1  0.00257*   1.52      5.20   \n",
       "8               Perihelion    0.313   0.731      1  0.00247*   1.41      5.03   \n",
       "9                 Aphelion    0.459   0.716      1  0.00267*   1.64      5.37   \n",
       "10          Orbital Period    0.241   0.615      1   0.0748*   1.88      11.9   \n",
       "11        Orbital Velocity     1.59    1.18      1   0.0343*  0.808     0.439   \n",
       "12    Orbital Eccentricity     12.3   0.401      1      3.29   5.60      2.93   \n",
       "13      Obliquity to Orbit    0.001  0.113*      1     0.285   1.07     0.134   \n",
       "14        Surface Pressure        0      92      1         0   0.01  Unknown*   \n",
       "15         Number of Moons        0       0      1         0      2        79   \n",
       "16            Ring System?       No      No     No        No     No       Yes   \n",
       "17  Global Magnetic Field?      Yes      No    Yes        No     No       Yes   \n",
       "18                     NaN  MERCURY   VENUS  EARTH      MOON   MARS   JUPITER   \n",
       "\n",
       "      SATURN    URANUS   NEPTUNE    PLUTO  \n",
       "0       95.2      14.5      17.1   0.0025  \n",
       "1       9.45      4.01      3.88    0.186  \n",
       "2      0.125     0.230     0.297    0.380  \n",
       "3      0.916     0.889      1.12    0.071  \n",
       "4       3.17      1.90      2.10    0.116  \n",
       "5      0.445    -0.720     0.673     6.41  \n",
       "6      0.444     0.718     0.671     6.39  \n",
       "7       9.58     19.20     30.05    39.48  \n",
       "8       9.20     18.64     30.22    30.16  \n",
       "9       9.96     19.75     29.89    48.49  \n",
       "10      29.4      83.7     163.7    247.9  \n",
       "11     0.325     0.228     0.182    0.157  \n",
       "12      3.38      2.74     0.677     14.6  \n",
       "13      1.14     4.17*      1.21    2.45*  \n",
       "14  Unknown*  Unknown*  Unknown*  0.00001  \n",
       "15        82        27        14        5  \n",
       "16       Yes       Yes       Yes       No  \n",
       "17       Yes       Yes       Yes  Unknown  \n",
       "18    SATURN    URANUS   NEPTUNE    PLUTO  "
      ],
      "text/html": "<div>\n<style scoped>\n    .dataframe tbody tr th:only-of-type {\n        vertical-align: middle;\n    }\n\n    .dataframe tbody tr th {\n        vertical-align: top;\n    }\n\n    .dataframe thead th {\n        text-align: right;\n    }\n</style>\n<table border=\"1\" class=\"dataframe\">\n  <thead>\n    <tr style=\"text-align: right;\">\n      <th></th>\n      <th>Unnamed: 0</th>\n      <th>MERCURY</th>\n      <th>VENUS</th>\n      <th>EARTH</th>\n      <th>MOON</th>\n      <th>MARS</th>\n      <th>JUPITER</th>\n      <th>SATURN</th>\n      <th>URANUS</th>\n      <th>NEPTUNE</th>\n      <th>PLUTO</th>\n    </tr>\n  </thead>\n  <tbody>\n    <tr>\n      <th>0</th>\n      <td>Mass</td>\n      <td>0.0553</td>\n      <td>0.815</td>\n      <td>1</td>\n      <td>0.0123</td>\n      <td>0.107</td>\n      <td>317.8</td>\n      <td>95.2</td>\n      <td>14.5</td>\n      <td>17.1</td>\n      <td>0.0025</td>\n    </tr>\n    <tr>\n      <th>1</th>\n      <td>Diameter</td>\n      <td>0.383</td>\n      <td>0.949</td>\n      <td>1</td>\n      <td>0.2724</td>\n      <td>0.532</td>\n      <td>11.21</td>\n      <td>9.45</td>\n      <td>4.01</td>\n      <td>3.88</td>\n      <td>0.186</td>\n    </tr>\n    <tr>\n      <th>2</th>\n      <td>Density</td>\n      <td>0.984</td>\n      <td>0.951</td>\n      <td>1</td>\n      <td>0.605</td>\n      <td>0.713</td>\n      <td>0.240</td>\n      <td>0.125</td>\n      <td>0.230</td>\n      <td>0.297</td>\n      <td>0.380</td>\n    </tr>\n    <tr>\n      <th>3</th>\n      <td>Gravity</td>\n      <td>0.378</td>\n      <td>0.907</td>\n      <td>1</td>\n      <td>0.166</td>\n      <td>0.377</td>\n      <td>2.36</td>\n      <td>0.916</td>\n      <td>0.889</td>\n      <td>1.12</td>\n      <td>0.071</td>\n    </tr>\n    <tr>\n      <th>4</th>\n      <td>Escape Velocity</td>\n      <td>0.384</td>\n      <td>0.926</td>\n      <td>1</td>\n      <td>0.213</td>\n      <td>0.450</td>\n      <td>5.32</td>\n      <td>3.17</td>\n      <td>1.90</td>\n      <td>2.10</td>\n      <td>0.116</td>\n    </tr>\n    <tr>\n      <th>5</th>\n      <td>Rotation Period</td>\n      <td>58.8</td>\n      <td>-244</td>\n      <td>1</td>\n      <td>27.4</td>\n      <td>1.03</td>\n      <td>0.415</td>\n      <td>0.445</td>\n      <td>-0.720</td>\n      <td>0.673</td>\n      <td>6.41</td>\n    </tr>\n    <tr>\n      <th>6</th>\n      <td>Length of Day</td>\n      <td>175.9</td>\n      <td>116.8</td>\n      <td>1</td>\n      <td>29.5</td>\n      <td>1.03</td>\n      <td>0.414</td>\n      <td>0.444</td>\n      <td>0.718</td>\n      <td>0.671</td>\n      <td>6.39</td>\n    </tr>\n    <tr>\n      <th>7</th>\n      <td>Distance from Sun</td>\n      <td>0.387</td>\n      <td>0.723</td>\n      <td>1</td>\n      <td>0.00257*</td>\n      <td>1.52</td>\n      <td>5.20</td>\n      <td>9.58</td>\n      <td>19.20</td>\n      <td>30.05</td>\n      <td>39.48</td>\n    </tr>\n    <tr>\n      <th>8</th>\n      <td>Perihelion</td>\n      <td>0.313</td>\n      <td>0.731</td>\n      <td>1</td>\n      <td>0.00247*</td>\n      <td>1.41</td>\n      <td>5.03</td>\n      <td>9.20</td>\n      <td>18.64</td>\n      <td>30.22</td>\n      <td>30.16</td>\n    </tr>\n    <tr>\n      <th>9</th>\n      <td>Aphelion</td>\n      <td>0.459</td>\n      <td>0.716</td>\n      <td>1</td>\n      <td>0.00267*</td>\n      <td>1.64</td>\n      <td>5.37</td>\n      <td>9.96</td>\n      <td>19.75</td>\n      <td>29.89</td>\n      <td>48.49</td>\n    </tr>\n    <tr>\n      <th>10</th>\n      <td>Orbital Period</td>\n      <td>0.241</td>\n      <td>0.615</td>\n      <td>1</td>\n      <td>0.0748*</td>\n      <td>1.88</td>\n      <td>11.9</td>\n      <td>29.4</td>\n      <td>83.7</td>\n      <td>163.7</td>\n      <td>247.9</td>\n    </tr>\n    <tr>\n      <th>11</th>\n      <td>Orbital Velocity</td>\n      <td>1.59</td>\n      <td>1.18</td>\n      <td>1</td>\n      <td>0.0343*</td>\n      <td>0.808</td>\n      <td>0.439</td>\n      <td>0.325</td>\n      <td>0.228</td>\n      <td>0.182</td>\n      <td>0.157</td>\n    </tr>\n    <tr>\n      <th>12</th>\n      <td>Orbital Eccentricity</td>\n      <td>12.3</td>\n      <td>0.401</td>\n      <td>1</td>\n      <td>3.29</td>\n      <td>5.60</td>\n      <td>2.93</td>\n      <td>3.38</td>\n      <td>2.74</td>\n      <td>0.677</td>\n      <td>14.6</td>\n    </tr>\n    <tr>\n      <th>13</th>\n      <td>Obliquity to Orbit</td>\n      <td>0.001</td>\n      <td>0.113*</td>\n      <td>1</td>\n      <td>0.285</td>\n      <td>1.07</td>\n      <td>0.134</td>\n      <td>1.14</td>\n      <td>4.17*</td>\n      <td>1.21</td>\n      <td>2.45*</td>\n    </tr>\n    <tr>\n      <th>14</th>\n      <td>Surface Pressure</td>\n      <td>0</td>\n      <td>92</td>\n      <td>1</td>\n      <td>0</td>\n      <td>0.01</td>\n      <td>Unknown*</td>\n      <td>Unknown*</td>\n      <td>Unknown*</td>\n      <td>Unknown*</td>\n      <td>0.00001</td>\n    </tr>\n    <tr>\n      <th>15</th>\n      <td>Number of Moons</td>\n      <td>0</td>\n      <td>0</td>\n      <td>1</td>\n      <td>0</td>\n      <td>2</td>\n      <td>79</td>\n      <td>82</td>\n      <td>27</td>\n      <td>14</td>\n      <td>5</td>\n    </tr>\n    <tr>\n      <th>16</th>\n      <td>Ring System?</td>\n      <td>No</td>\n      <td>No</td>\n      <td>No</td>\n      <td>No</td>\n      <td>No</td>\n      <td>Yes</td>\n      <td>Yes</td>\n      <td>Yes</td>\n      <td>Yes</td>\n      <td>No</td>\n    </tr>\n    <tr>\n      <th>17</th>\n      <td>Global Magnetic Field?</td>\n      <td>Yes</td>\n      <td>No</td>\n      <td>Yes</td>\n      <td>No</td>\n      <td>No</td>\n      <td>Yes</td>\n      <td>Yes</td>\n      <td>Yes</td>\n      <td>Yes</td>\n      <td>Unknown</td>\n    </tr>\n    <tr>\n      <th>18</th>\n      <td>NaN</td>\n      <td>MERCURY</td>\n      <td>VENUS</td>\n      <td>EARTH</td>\n      <td>MOON</td>\n      <td>MARS</td>\n      <td>JUPITER</td>\n      <td>SATURN</td>\n      <td>URANUS</td>\n      <td>NEPTUNE</td>\n      <td>PLUTO</td>\n    </tr>\n  </tbody>\n</table>\n</div>"
     },
     "metadata": {},
     "execution_count": 16
    }
   ],
   "source": [
    "# this is to grab the data from the factsheet ratio to Earth url\n",
    "url_2 = \"https://nssdc.gsfc.nasa.gov/planetary/factsheet/planet_table_ratio.html\"\n",
    "\n",
    "# Use panda's `read_html` to parse the url\n",
    "planets_ratio_factsheet = pd.read_html(url_2, header=0)[0]\n",
    "planets_ratio_factsheet"
   ]
  },
  {
   "cell_type": "code",
   "execution_count": 17,
   "metadata": {},
   "outputs": [],
   "source": [
    "# save the dataframe to a CSV file\n",
    "planets_factsheet.to_csv(\"Resources/planetary_ratio_fact_sheet.csv\")"
   ]
  },
  {
   "cell_type": "code",
   "execution_count": null,
   "metadata": {},
   "outputs": [],
   "source": []
  }
 ]
}