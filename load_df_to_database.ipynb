{
 "metadata": {
  "language_info": {
   "codemirror_mode": {
    "name": "ipython",
    "version": 3
   },
   "file_extension": ".py",
   "mimetype": "text/x-python",
   "name": "python",
   "nbconvert_exporter": "python",
   "pygments_lexer": "ipython3",
   "version": "3.8.3-final"
  },
  "orig_nbformat": 2,
  "kernelspec": {
   "name": "python3",
   "display_name": "Python 3"
  }
 },
 "nbformat": 4,
 "nbformat_minor": 2,
 "cells": [
  {
   "cell_type": "code",
   "execution_count": 87,
   "metadata": {},
   "outputs": [],
   "source": [
    "import pandas as pd\n",
    "from sqlalchemy import create_engine, inspect\n",
    "from config import username, password"
   ]
  },
  {
   "cell_type": "code",
   "execution_count": 88,
   "metadata": {},
   "outputs": [],
   "source": [
    "# pip install psycopg2"
   ]
  },
  {
   "cell_type": "code",
   "execution_count": 89,
   "metadata": {},
   "outputs": [],
   "source": [
    "# assign the csv files to a variable\n",
    "fact_file = \"Transformed_Data/planetary_fact_sheet_transformed.csv\"\n",
    "ratio_file = \"Transformed_Data/planetary_ratio_fact_sheet_transformed.csv\""
   ]
  },
  {
   "cell_type": "code",
   "execution_count": 90,
   "metadata": {},
   "outputs": [
    {
     "output_type": "execute_result",
     "data": {
      "text/plain": [
       "    Planet  Mass per 1024kg  Diameter per km  Density per kg/m3  \\\n",
       "0  Mercury           0.3300             4879               5427   \n",
       "1    Venus           4.8700            12104               5243   \n",
       "2    Earth           5.9700            12756               5514   \n",
       "3     Mars           0.6420             6792               3933   \n",
       "4  Jupiter        1898.0000           142984               1326   \n",
       "5   Saturn         568.0000           120536                687   \n",
       "6   Uranus          86.8000            51118               1271   \n",
       "7  Neptune         102.0000            49528               1638   \n",
       "8    Pluto           0.0146             2370               2095   \n",
       "\n",
       "   Gravity per m/s2  Escape Velocity per km/s  Rotation Period per hours  \\\n",
       "0               3.7                       4.3                     1407.6   \n",
       "1               8.9                      10.4                    -5832.5   \n",
       "2               9.8                      11.2                       23.9   \n",
       "3               3.7                       5.0                       24.6   \n",
       "4              23.1                      59.5                        9.9   \n",
       "5               9.0                      35.5                       10.7   \n",
       "6               8.7                      21.3                      -17.2   \n",
       "7              11.0                      23.5                       16.1   \n",
       "8               0.7                       1.3                     -153.3   \n",
       "\n",
       "   Length of Day per hours  Distance from Sun per 106 km  \\\n",
       "0                   4222.6                          57.9   \n",
       "1                   2802.0                         108.2   \n",
       "2                     24.0                         149.6   \n",
       "3                     24.7                         227.9   \n",
       "4                      9.9                         778.6   \n",
       "5                     10.7                        1433.5   \n",
       "6                     17.2                        2872.5   \n",
       "7                     16.1                        4495.1   \n",
       "8                    153.3                        5906.4   \n",
       "\n",
       "   Perihelion per 106 km  Aphelion per 106 km  Orbital Period per days  \\\n",
       "0                   46.0                 69.8                     88.0   \n",
       "1                  107.5                108.9                    224.7   \n",
       "2                  147.1                152.1                    365.2   \n",
       "3                  206.6                249.2                    687.0   \n",
       "4                  740.5                816.6                   4331.0   \n",
       "5                 1352.6               1514.5                  10747.0   \n",
       "6                 2741.3               3003.6                  30589.0   \n",
       "7                 4444.5               4545.7                  59800.0   \n",
       "8                 4436.8               7375.9                  90560.0   \n",
       "\n",
       "   Orbital Velocity per km/s  Orbital Inclination per degrees  \\\n",
       "0                       47.4                              7.0   \n",
       "1                       35.0                              3.4   \n",
       "2                       29.8                              0.0   \n",
       "3                       24.1                              1.9   \n",
       "4                       13.1                              1.3   \n",
       "5                        9.7                              2.5   \n",
       "6                        6.8                              0.8   \n",
       "7                        5.4                              1.8   \n",
       "8                        4.7                             17.2   \n",
       "\n",
       "   Orbital Eccentricity  Obliquity to Orbit per degrees  \\\n",
       "0                 0.205                           0.034   \n",
       "1                 0.007                         177.400   \n",
       "2                 0.017                          23.400   \n",
       "3                 0.094                          25.200   \n",
       "4                 0.049                           3.100   \n",
       "5                 0.057                          26.700   \n",
       "6                 0.046                          97.800   \n",
       "7                 0.011                          28.300   \n",
       "8                 0.244                         122.500   \n",
       "\n",
       "   Mean Temperature per Celsius  Number of Moons Ring System?  \n",
       "0                           167                0           No  \n",
       "1                           464                0           No  \n",
       "2                            15                1           No  \n",
       "3                           -65                2           No  \n",
       "4                          -110               79          Yes  \n",
       "5                          -140               82          Yes  \n",
       "6                          -195               27          Yes  \n",
       "7                          -200               14          Yes  \n",
       "8                          -225                5           No  "
      ],
      "text/html": "<div>\n<style scoped>\n    .dataframe tbody tr th:only-of-type {\n        vertical-align: middle;\n    }\n\n    .dataframe tbody tr th {\n        vertical-align: top;\n    }\n\n    .dataframe thead th {\n        text-align: right;\n    }\n</style>\n<table border=\"1\" class=\"dataframe\">\n  <thead>\n    <tr style=\"text-align: right;\">\n      <th></th>\n      <th>Planet</th>\n      <th>Mass per 1024kg</th>\n      <th>Diameter per km</th>\n      <th>Density per kg/m3</th>\n      <th>Gravity per m/s2</th>\n      <th>Escape Velocity per km/s</th>\n      <th>Rotation Period per hours</th>\n      <th>Length of Day per hours</th>\n      <th>Distance from Sun per 106 km</th>\n      <th>Perihelion per 106 km</th>\n      <th>Aphelion per 106 km</th>\n      <th>Orbital Period per days</th>\n      <th>Orbital Velocity per km/s</th>\n      <th>Orbital Inclination per degrees</th>\n      <th>Orbital Eccentricity</th>\n      <th>Obliquity to Orbit per degrees</th>\n      <th>Mean Temperature per Celsius</th>\n      <th>Number of Moons</th>\n      <th>Ring System?</th>\n    </tr>\n  </thead>\n  <tbody>\n    <tr>\n      <th>0</th>\n      <td>Mercury</td>\n      <td>0.3300</td>\n      <td>4879</td>\n      <td>5427</td>\n      <td>3.7</td>\n      <td>4.3</td>\n      <td>1407.6</td>\n      <td>4222.6</td>\n      <td>57.9</td>\n      <td>46.0</td>\n      <td>69.8</td>\n      <td>88.0</td>\n      <td>47.4</td>\n      <td>7.0</td>\n      <td>0.205</td>\n      <td>0.034</td>\n      <td>167</td>\n      <td>0</td>\n      <td>No</td>\n    </tr>\n    <tr>\n      <th>1</th>\n      <td>Venus</td>\n      <td>4.8700</td>\n      <td>12104</td>\n      <td>5243</td>\n      <td>8.9</td>\n      <td>10.4</td>\n      <td>-5832.5</td>\n      <td>2802.0</td>\n      <td>108.2</td>\n      <td>107.5</td>\n      <td>108.9</td>\n      <td>224.7</td>\n      <td>35.0</td>\n      <td>3.4</td>\n      <td>0.007</td>\n      <td>177.400</td>\n      <td>464</td>\n      <td>0</td>\n      <td>No</td>\n    </tr>\n    <tr>\n      <th>2</th>\n      <td>Earth</td>\n      <td>5.9700</td>\n      <td>12756</td>\n      <td>5514</td>\n      <td>9.8</td>\n      <td>11.2</td>\n      <td>23.9</td>\n      <td>24.0</td>\n      <td>149.6</td>\n      <td>147.1</td>\n      <td>152.1</td>\n      <td>365.2</td>\n      <td>29.8</td>\n      <td>0.0</td>\n      <td>0.017</td>\n      <td>23.400</td>\n      <td>15</td>\n      <td>1</td>\n      <td>No</td>\n    </tr>\n    <tr>\n      <th>3</th>\n      <td>Mars</td>\n      <td>0.6420</td>\n      <td>6792</td>\n      <td>3933</td>\n      <td>3.7</td>\n      <td>5.0</td>\n      <td>24.6</td>\n      <td>24.7</td>\n      <td>227.9</td>\n      <td>206.6</td>\n      <td>249.2</td>\n      <td>687.0</td>\n      <td>24.1</td>\n      <td>1.9</td>\n      <td>0.094</td>\n      <td>25.200</td>\n      <td>-65</td>\n      <td>2</td>\n      <td>No</td>\n    </tr>\n    <tr>\n      <th>4</th>\n      <td>Jupiter</td>\n      <td>1898.0000</td>\n      <td>142984</td>\n      <td>1326</td>\n      <td>23.1</td>\n      <td>59.5</td>\n      <td>9.9</td>\n      <td>9.9</td>\n      <td>778.6</td>\n      <td>740.5</td>\n      <td>816.6</td>\n      <td>4331.0</td>\n      <td>13.1</td>\n      <td>1.3</td>\n      <td>0.049</td>\n      <td>3.100</td>\n      <td>-110</td>\n      <td>79</td>\n      <td>Yes</td>\n    </tr>\n    <tr>\n      <th>5</th>\n      <td>Saturn</td>\n      <td>568.0000</td>\n      <td>120536</td>\n      <td>687</td>\n      <td>9.0</td>\n      <td>35.5</td>\n      <td>10.7</td>\n      <td>10.7</td>\n      <td>1433.5</td>\n      <td>1352.6</td>\n      <td>1514.5</td>\n      <td>10747.0</td>\n      <td>9.7</td>\n      <td>2.5</td>\n      <td>0.057</td>\n      <td>26.700</td>\n      <td>-140</td>\n      <td>82</td>\n      <td>Yes</td>\n    </tr>\n    <tr>\n      <th>6</th>\n      <td>Uranus</td>\n      <td>86.8000</td>\n      <td>51118</td>\n      <td>1271</td>\n      <td>8.7</td>\n      <td>21.3</td>\n      <td>-17.2</td>\n      <td>17.2</td>\n      <td>2872.5</td>\n      <td>2741.3</td>\n      <td>3003.6</td>\n      <td>30589.0</td>\n      <td>6.8</td>\n      <td>0.8</td>\n      <td>0.046</td>\n      <td>97.800</td>\n      <td>-195</td>\n      <td>27</td>\n      <td>Yes</td>\n    </tr>\n    <tr>\n      <th>7</th>\n      <td>Neptune</td>\n      <td>102.0000</td>\n      <td>49528</td>\n      <td>1638</td>\n      <td>11.0</td>\n      <td>23.5</td>\n      <td>16.1</td>\n      <td>16.1</td>\n      <td>4495.1</td>\n      <td>4444.5</td>\n      <td>4545.7</td>\n      <td>59800.0</td>\n      <td>5.4</td>\n      <td>1.8</td>\n      <td>0.011</td>\n      <td>28.300</td>\n      <td>-200</td>\n      <td>14</td>\n      <td>Yes</td>\n    </tr>\n    <tr>\n      <th>8</th>\n      <td>Pluto</td>\n      <td>0.0146</td>\n      <td>2370</td>\n      <td>2095</td>\n      <td>0.7</td>\n      <td>1.3</td>\n      <td>-153.3</td>\n      <td>153.3</td>\n      <td>5906.4</td>\n      <td>4436.8</td>\n      <td>7375.9</td>\n      <td>90560.0</td>\n      <td>4.7</td>\n      <td>17.2</td>\n      <td>0.244</td>\n      <td>122.500</td>\n      <td>-225</td>\n      <td>5</td>\n      <td>No</td>\n    </tr>\n  </tbody>\n</table>\n</div>"
     },
     "metadata": {},
     "execution_count": 90
    }
   ],
   "source": [
    "# read the fact sheet csv file\n",
    "fact_df = pd.read_csv(fact_file)\n",
    "fact_df"
   ]
  },
  {
   "cell_type": "code",
   "execution_count": 91,
   "metadata": {},
   "outputs": [
    {
     "output_type": "execute_result",
     "data": {
      "text/plain": [
       "    Planet  Mass per 1024kg  Diameter per km  Density per kg/m3  \\\n",
       "0  Mercury           0.0553            0.383              0.984   \n",
       "1    Venus           0.8150            0.949              0.951   \n",
       "2    Earth           1.0000            1.000              1.000   \n",
       "3     Mars           0.1070            0.532              0.713   \n",
       "4  Jupiter         317.8000           11.210              0.240   \n",
       "5   Saturn          95.2000            9.450              0.125   \n",
       "6   Uranus          14.5000            4.010              0.230   \n",
       "7  Neptune          17.1000            3.880              0.297   \n",
       "8    Pluto           0.0025            0.186              0.380   \n",
       "\n",
       "   Gravity per m/s2  Escape Velocity per km/s  Rotation Period per hours  \\\n",
       "0             0.378                     0.384                     58.800   \n",
       "1             0.907                     0.926                   -244.000   \n",
       "2             1.000                     1.000                      1.000   \n",
       "3             0.377                     0.450                      1.030   \n",
       "4             2.360                     5.320                      0.415   \n",
       "5             0.916                     3.170                      0.445   \n",
       "6             0.889                     1.900                     -0.720   \n",
       "7             1.120                     2.100                      0.673   \n",
       "8             0.071                     0.116                      6.410   \n",
       "\n",
       "   Length of Day per hours  Distance from Sun per 106 km  \\\n",
       "0                  175.900                         0.387   \n",
       "1                  116.800                         0.723   \n",
       "2                    1.000                         1.000   \n",
       "3                    1.030                         1.520   \n",
       "4                    0.414                         5.200   \n",
       "5                    0.444                         9.580   \n",
       "6                    0.718                        19.200   \n",
       "7                    0.671                        30.050   \n",
       "8                    6.390                        39.480   \n",
       "\n",
       "   Perihelion per 106 km  Aphelion per 106 km  Orbital Period per days  \\\n",
       "0                  0.313                0.459                    0.241   \n",
       "1                  0.731                0.716                    0.615   \n",
       "2                  1.000                1.000                    1.000   \n",
       "3                  1.410                1.640                    1.880   \n",
       "4                  5.030                5.370                   11.900   \n",
       "5                  9.200                9.960                   29.400   \n",
       "6                 18.640               19.750                   83.700   \n",
       "7                 30.220               29.890                  163.700   \n",
       "8                 30.160               48.490                  247.900   \n",
       "\n",
       "   Orbital Velocity per km/s  Orbital Eccentricity  \\\n",
       "0                      1.590                12.300   \n",
       "1                      1.180                 0.401   \n",
       "2                      1.000                 1.000   \n",
       "3                      0.808                 5.600   \n",
       "4                      0.439                 2.930   \n",
       "5                      0.325                 3.380   \n",
       "6                      0.228                 2.740   \n",
       "7                      0.182                 0.677   \n",
       "8                      0.157                14.600   \n",
       "\n",
       "   Obliquity to Orbit per degrees  \n",
       "0                           0.001  \n",
       "1                           0.113  \n",
       "2                           1.000  \n",
       "3                           1.070  \n",
       "4                           0.134  \n",
       "5                           1.140  \n",
       "6                           4.170  \n",
       "7                           1.210  \n",
       "8                           2.450  "
      ],
      "text/html": "<div>\n<style scoped>\n    .dataframe tbody tr th:only-of-type {\n        vertical-align: middle;\n    }\n\n    .dataframe tbody tr th {\n        vertical-align: top;\n    }\n\n    .dataframe thead th {\n        text-align: right;\n    }\n</style>\n<table border=\"1\" class=\"dataframe\">\n  <thead>\n    <tr style=\"text-align: right;\">\n      <th></th>\n      <th>Planet</th>\n      <th>Mass per 1024kg</th>\n      <th>Diameter per km</th>\n      <th>Density per kg/m3</th>\n      <th>Gravity per m/s2</th>\n      <th>Escape Velocity per km/s</th>\n      <th>Rotation Period per hours</th>\n      <th>Length of Day per hours</th>\n      <th>Distance from Sun per 106 km</th>\n      <th>Perihelion per 106 km</th>\n      <th>Aphelion per 106 km</th>\n      <th>Orbital Period per days</th>\n      <th>Orbital Velocity per km/s</th>\n      <th>Orbital Eccentricity</th>\n      <th>Obliquity to Orbit per degrees</th>\n    </tr>\n  </thead>\n  <tbody>\n    <tr>\n      <th>0</th>\n      <td>Mercury</td>\n      <td>0.0553</td>\n      <td>0.383</td>\n      <td>0.984</td>\n      <td>0.378</td>\n      <td>0.384</td>\n      <td>58.800</td>\n      <td>175.900</td>\n      <td>0.387</td>\n      <td>0.313</td>\n      <td>0.459</td>\n      <td>0.241</td>\n      <td>1.590</td>\n      <td>12.300</td>\n      <td>0.001</td>\n    </tr>\n    <tr>\n      <th>1</th>\n      <td>Venus</td>\n      <td>0.8150</td>\n      <td>0.949</td>\n      <td>0.951</td>\n      <td>0.907</td>\n      <td>0.926</td>\n      <td>-244.000</td>\n      <td>116.800</td>\n      <td>0.723</td>\n      <td>0.731</td>\n      <td>0.716</td>\n      <td>0.615</td>\n      <td>1.180</td>\n      <td>0.401</td>\n      <td>0.113</td>\n    </tr>\n    <tr>\n      <th>2</th>\n      <td>Earth</td>\n      <td>1.0000</td>\n      <td>1.000</td>\n      <td>1.000</td>\n      <td>1.000</td>\n      <td>1.000</td>\n      <td>1.000</td>\n      <td>1.000</td>\n      <td>1.000</td>\n      <td>1.000</td>\n      <td>1.000</td>\n      <td>1.000</td>\n      <td>1.000</td>\n      <td>1.000</td>\n      <td>1.000</td>\n    </tr>\n    <tr>\n      <th>3</th>\n      <td>Mars</td>\n      <td>0.1070</td>\n      <td>0.532</td>\n      <td>0.713</td>\n      <td>0.377</td>\n      <td>0.450</td>\n      <td>1.030</td>\n      <td>1.030</td>\n      <td>1.520</td>\n      <td>1.410</td>\n      <td>1.640</td>\n      <td>1.880</td>\n      <td>0.808</td>\n      <td>5.600</td>\n      <td>1.070</td>\n    </tr>\n    <tr>\n      <th>4</th>\n      <td>Jupiter</td>\n      <td>317.8000</td>\n      <td>11.210</td>\n      <td>0.240</td>\n      <td>2.360</td>\n      <td>5.320</td>\n      <td>0.415</td>\n      <td>0.414</td>\n      <td>5.200</td>\n      <td>5.030</td>\n      <td>5.370</td>\n      <td>11.900</td>\n      <td>0.439</td>\n      <td>2.930</td>\n      <td>0.134</td>\n    </tr>\n    <tr>\n      <th>5</th>\n      <td>Saturn</td>\n      <td>95.2000</td>\n      <td>9.450</td>\n      <td>0.125</td>\n      <td>0.916</td>\n      <td>3.170</td>\n      <td>0.445</td>\n      <td>0.444</td>\n      <td>9.580</td>\n      <td>9.200</td>\n      <td>9.960</td>\n      <td>29.400</td>\n      <td>0.325</td>\n      <td>3.380</td>\n      <td>1.140</td>\n    </tr>\n    <tr>\n      <th>6</th>\n      <td>Uranus</td>\n      <td>14.5000</td>\n      <td>4.010</td>\n      <td>0.230</td>\n      <td>0.889</td>\n      <td>1.900</td>\n      <td>-0.720</td>\n      <td>0.718</td>\n      <td>19.200</td>\n      <td>18.640</td>\n      <td>19.750</td>\n      <td>83.700</td>\n      <td>0.228</td>\n      <td>2.740</td>\n      <td>4.170</td>\n    </tr>\n    <tr>\n      <th>7</th>\n      <td>Neptune</td>\n      <td>17.1000</td>\n      <td>3.880</td>\n      <td>0.297</td>\n      <td>1.120</td>\n      <td>2.100</td>\n      <td>0.673</td>\n      <td>0.671</td>\n      <td>30.050</td>\n      <td>30.220</td>\n      <td>29.890</td>\n      <td>163.700</td>\n      <td>0.182</td>\n      <td>0.677</td>\n      <td>1.210</td>\n    </tr>\n    <tr>\n      <th>8</th>\n      <td>Pluto</td>\n      <td>0.0025</td>\n      <td>0.186</td>\n      <td>0.380</td>\n      <td>0.071</td>\n      <td>0.116</td>\n      <td>6.410</td>\n      <td>6.390</td>\n      <td>39.480</td>\n      <td>30.160</td>\n      <td>48.490</td>\n      <td>247.900</td>\n      <td>0.157</td>\n      <td>14.600</td>\n      <td>2.450</td>\n    </tr>\n  </tbody>\n</table>\n</div>"
     },
     "metadata": {},
     "execution_count": 91
    }
   ],
   "source": [
    "# read the ratio fact sheet csv file\n",
    "ratio_df = pd.read_csv(ratio_file)\n",
    "ratio_df"
   ]
  },
  {
   "cell_type": "code",
   "execution_count": 92,
   "metadata": {},
   "outputs": [
    {
     "output_type": "execute_result",
     "data": {
      "text/plain": [
       "         Mass per 1024kg  Diameter per km  Density per kg/m3  \\\n",
       "Planet                                                         \n",
       "Mercury           0.3300             4879               5427   \n",
       "Venus             4.8700            12104               5243   \n",
       "Earth             5.9700            12756               5514   \n",
       "Mars              0.6420             6792               3933   \n",
       "Jupiter        1898.0000           142984               1326   \n",
       "Saturn          568.0000           120536                687   \n",
       "Uranus           86.8000            51118               1271   \n",
       "Neptune         102.0000            49528               1638   \n",
       "Pluto             0.0146             2370               2095   \n",
       "\n",
       "         Gravity per m/s2  Escape Velocity per km/s  \\\n",
       "Planet                                                \n",
       "Mercury               3.7                       4.3   \n",
       "Venus                 8.9                      10.4   \n",
       "Earth                 9.8                      11.2   \n",
       "Mars                  3.7                       5.0   \n",
       "Jupiter              23.1                      59.5   \n",
       "Saturn                9.0                      35.5   \n",
       "Uranus                8.7                      21.3   \n",
       "Neptune              11.0                      23.5   \n",
       "Pluto                 0.7                       1.3   \n",
       "\n",
       "         Rotation Period per hours  Length of Day per hours  \\\n",
       "Planet                                                        \n",
       "Mercury                     1407.6                   4222.6   \n",
       "Venus                      -5832.5                   2802.0   \n",
       "Earth                         23.9                     24.0   \n",
       "Mars                          24.6                     24.7   \n",
       "Jupiter                        9.9                      9.9   \n",
       "Saturn                        10.7                     10.7   \n",
       "Uranus                       -17.2                     17.2   \n",
       "Neptune                       16.1                     16.1   \n",
       "Pluto                       -153.3                    153.3   \n",
       "\n",
       "         Distance from Sun per 106 km  Perihelion per 106 km  \\\n",
       "Planet                                                         \n",
       "Mercury                          57.9                   46.0   \n",
       "Venus                           108.2                  107.5   \n",
       "Earth                           149.6                  147.1   \n",
       "Mars                            227.9                  206.6   \n",
       "Jupiter                         778.6                  740.5   \n",
       "Saturn                         1433.5                 1352.6   \n",
       "Uranus                         2872.5                 2741.3   \n",
       "Neptune                        4495.1                 4444.5   \n",
       "Pluto                          5906.4                 4436.8   \n",
       "\n",
       "         Aphelion per 106 km  Orbital Period per days  \\\n",
       "Planet                                                  \n",
       "Mercury                 69.8                     88.0   \n",
       "Venus                  108.9                    224.7   \n",
       "Earth                  152.1                    365.2   \n",
       "Mars                   249.2                    687.0   \n",
       "Jupiter                816.6                   4331.0   \n",
       "Saturn                1514.5                  10747.0   \n",
       "Uranus                3003.6                  30589.0   \n",
       "Neptune               4545.7                  59800.0   \n",
       "Pluto                 7375.9                  90560.0   \n",
       "\n",
       "         Orbital Velocity per km/s  Orbital Inclination per degrees  \\\n",
       "Planet                                                                \n",
       "Mercury                       47.4                              7.0   \n",
       "Venus                         35.0                              3.4   \n",
       "Earth                         29.8                              0.0   \n",
       "Mars                          24.1                              1.9   \n",
       "Jupiter                       13.1                              1.3   \n",
       "Saturn                         9.7                              2.5   \n",
       "Uranus                         6.8                              0.8   \n",
       "Neptune                        5.4                              1.8   \n",
       "Pluto                          4.7                             17.2   \n",
       "\n",
       "         Orbital Eccentricity  Obliquity to Orbit per degrees  \\\n",
       "Planet                                                          \n",
       "Mercury                 0.205                           0.034   \n",
       "Venus                   0.007                         177.400   \n",
       "Earth                   0.017                          23.400   \n",
       "Mars                    0.094                          25.200   \n",
       "Jupiter                 0.049                           3.100   \n",
       "Saturn                  0.057                          26.700   \n",
       "Uranus                  0.046                          97.800   \n",
       "Neptune                 0.011                          28.300   \n",
       "Pluto                   0.244                         122.500   \n",
       "\n",
       "         Mean Temperature per Celsius  Number of Moons Ring System?  \n",
       "Planet                                                               \n",
       "Mercury                           167                0           No  \n",
       "Venus                             464                0           No  \n",
       "Earth                              15                1           No  \n",
       "Mars                              -65                2           No  \n",
       "Jupiter                          -110               79          Yes  \n",
       "Saturn                           -140               82          Yes  \n",
       "Uranus                           -195               27          Yes  \n",
       "Neptune                          -200               14          Yes  \n",
       "Pluto                            -225                5           No  "
      ],
      "text/html": "<div>\n<style scoped>\n    .dataframe tbody tr th:only-of-type {\n        vertical-align: middle;\n    }\n\n    .dataframe tbody tr th {\n        vertical-align: top;\n    }\n\n    .dataframe thead th {\n        text-align: right;\n    }\n</style>\n<table border=\"1\" class=\"dataframe\">\n  <thead>\n    <tr style=\"text-align: right;\">\n      <th></th>\n      <th>Mass per 1024kg</th>\n      <th>Diameter per km</th>\n      <th>Density per kg/m3</th>\n      <th>Gravity per m/s2</th>\n      <th>Escape Velocity per km/s</th>\n      <th>Rotation Period per hours</th>\n      <th>Length of Day per hours</th>\n      <th>Distance from Sun per 106 km</th>\n      <th>Perihelion per 106 km</th>\n      <th>Aphelion per 106 km</th>\n      <th>Orbital Period per days</th>\n      <th>Orbital Velocity per km/s</th>\n      <th>Orbital Inclination per degrees</th>\n      <th>Orbital Eccentricity</th>\n      <th>Obliquity to Orbit per degrees</th>\n      <th>Mean Temperature per Celsius</th>\n      <th>Number of Moons</th>\n      <th>Ring System?</th>\n    </tr>\n    <tr>\n      <th>Planet</th>\n      <th></th>\n      <th></th>\n      <th></th>\n      <th></th>\n      <th></th>\n      <th></th>\n      <th></th>\n      <th></th>\n      <th></th>\n      <th></th>\n      <th></th>\n      <th></th>\n      <th></th>\n      <th></th>\n      <th></th>\n      <th></th>\n      <th></th>\n      <th></th>\n    </tr>\n  </thead>\n  <tbody>\n    <tr>\n      <th>Mercury</th>\n      <td>0.3300</td>\n      <td>4879</td>\n      <td>5427</td>\n      <td>3.7</td>\n      <td>4.3</td>\n      <td>1407.6</td>\n      <td>4222.6</td>\n      <td>57.9</td>\n      <td>46.0</td>\n      <td>69.8</td>\n      <td>88.0</td>\n      <td>47.4</td>\n      <td>7.0</td>\n      <td>0.205</td>\n      <td>0.034</td>\n      <td>167</td>\n      <td>0</td>\n      <td>No</td>\n    </tr>\n    <tr>\n      <th>Venus</th>\n      <td>4.8700</td>\n      <td>12104</td>\n      <td>5243</td>\n      <td>8.9</td>\n      <td>10.4</td>\n      <td>-5832.5</td>\n      <td>2802.0</td>\n      <td>108.2</td>\n      <td>107.5</td>\n      <td>108.9</td>\n      <td>224.7</td>\n      <td>35.0</td>\n      <td>3.4</td>\n      <td>0.007</td>\n      <td>177.400</td>\n      <td>464</td>\n      <td>0</td>\n      <td>No</td>\n    </tr>\n    <tr>\n      <th>Earth</th>\n      <td>5.9700</td>\n      <td>12756</td>\n      <td>5514</td>\n      <td>9.8</td>\n      <td>11.2</td>\n      <td>23.9</td>\n      <td>24.0</td>\n      <td>149.6</td>\n      <td>147.1</td>\n      <td>152.1</td>\n      <td>365.2</td>\n      <td>29.8</td>\n      <td>0.0</td>\n      <td>0.017</td>\n      <td>23.400</td>\n      <td>15</td>\n      <td>1</td>\n      <td>No</td>\n    </tr>\n    <tr>\n      <th>Mars</th>\n      <td>0.6420</td>\n      <td>6792</td>\n      <td>3933</td>\n      <td>3.7</td>\n      <td>5.0</td>\n      <td>24.6</td>\n      <td>24.7</td>\n      <td>227.9</td>\n      <td>206.6</td>\n      <td>249.2</td>\n      <td>687.0</td>\n      <td>24.1</td>\n      <td>1.9</td>\n      <td>0.094</td>\n      <td>25.200</td>\n      <td>-65</td>\n      <td>2</td>\n      <td>No</td>\n    </tr>\n    <tr>\n      <th>Jupiter</th>\n      <td>1898.0000</td>\n      <td>142984</td>\n      <td>1326</td>\n      <td>23.1</td>\n      <td>59.5</td>\n      <td>9.9</td>\n      <td>9.9</td>\n      <td>778.6</td>\n      <td>740.5</td>\n      <td>816.6</td>\n      <td>4331.0</td>\n      <td>13.1</td>\n      <td>1.3</td>\n      <td>0.049</td>\n      <td>3.100</td>\n      <td>-110</td>\n      <td>79</td>\n      <td>Yes</td>\n    </tr>\n    <tr>\n      <th>Saturn</th>\n      <td>568.0000</td>\n      <td>120536</td>\n      <td>687</td>\n      <td>9.0</td>\n      <td>35.5</td>\n      <td>10.7</td>\n      <td>10.7</td>\n      <td>1433.5</td>\n      <td>1352.6</td>\n      <td>1514.5</td>\n      <td>10747.0</td>\n      <td>9.7</td>\n      <td>2.5</td>\n      <td>0.057</td>\n      <td>26.700</td>\n      <td>-140</td>\n      <td>82</td>\n      <td>Yes</td>\n    </tr>\n    <tr>\n      <th>Uranus</th>\n      <td>86.8000</td>\n      <td>51118</td>\n      <td>1271</td>\n      <td>8.7</td>\n      <td>21.3</td>\n      <td>-17.2</td>\n      <td>17.2</td>\n      <td>2872.5</td>\n      <td>2741.3</td>\n      <td>3003.6</td>\n      <td>30589.0</td>\n      <td>6.8</td>\n      <td>0.8</td>\n      <td>0.046</td>\n      <td>97.800</td>\n      <td>-195</td>\n      <td>27</td>\n      <td>Yes</td>\n    </tr>\n    <tr>\n      <th>Neptune</th>\n      <td>102.0000</td>\n      <td>49528</td>\n      <td>1638</td>\n      <td>11.0</td>\n      <td>23.5</td>\n      <td>16.1</td>\n      <td>16.1</td>\n      <td>4495.1</td>\n      <td>4444.5</td>\n      <td>4545.7</td>\n      <td>59800.0</td>\n      <td>5.4</td>\n      <td>1.8</td>\n      <td>0.011</td>\n      <td>28.300</td>\n      <td>-200</td>\n      <td>14</td>\n      <td>Yes</td>\n    </tr>\n    <tr>\n      <th>Pluto</th>\n      <td>0.0146</td>\n      <td>2370</td>\n      <td>2095</td>\n      <td>0.7</td>\n      <td>1.3</td>\n      <td>-153.3</td>\n      <td>153.3</td>\n      <td>5906.4</td>\n      <td>4436.8</td>\n      <td>7375.9</td>\n      <td>90560.0</td>\n      <td>4.7</td>\n      <td>17.2</td>\n      <td>0.244</td>\n      <td>122.500</td>\n      <td>-225</td>\n      <td>5</td>\n      <td>No</td>\n    </tr>\n  </tbody>\n</table>\n</div>"
     },
     "metadata": {},
     "execution_count": 92
    }
   ],
   "source": [
    "# set the column \"Planet\" as the index for the fact_file df\n",
    "fact_db = fact_df.set_index('Planet')\n",
    "fact_db"
   ]
  },
  {
   "cell_type": "code",
   "execution_count": 93,
   "metadata": {},
   "outputs": [
    {
     "output_type": "execute_result",
     "data": {
      "text/plain": [
       "         Mass per 1024kg  Diameter per km  Density per kg/m3  \\\n",
       "Planet                                                         \n",
       "Mercury           0.0553            0.383              0.984   \n",
       "Venus             0.8150            0.949              0.951   \n",
       "Earth             1.0000            1.000              1.000   \n",
       "Mars              0.1070            0.532              0.713   \n",
       "Jupiter         317.8000           11.210              0.240   \n",
       "Saturn           95.2000            9.450              0.125   \n",
       "Uranus           14.5000            4.010              0.230   \n",
       "Neptune          17.1000            3.880              0.297   \n",
       "Pluto             0.0025            0.186              0.380   \n",
       "\n",
       "         Gravity per m/s2  Escape Velocity per km/s  \\\n",
       "Planet                                                \n",
       "Mercury             0.378                     0.384   \n",
       "Venus               0.907                     0.926   \n",
       "Earth               1.000                     1.000   \n",
       "Mars                0.377                     0.450   \n",
       "Jupiter             2.360                     5.320   \n",
       "Saturn              0.916                     3.170   \n",
       "Uranus              0.889                     1.900   \n",
       "Neptune             1.120                     2.100   \n",
       "Pluto               0.071                     0.116   \n",
       "\n",
       "         Rotation Period per hours  Length of Day per hours  \\\n",
       "Planet                                                        \n",
       "Mercury                     58.800                  175.900   \n",
       "Venus                     -244.000                  116.800   \n",
       "Earth                        1.000                    1.000   \n",
       "Mars                         1.030                    1.030   \n",
       "Jupiter                      0.415                    0.414   \n",
       "Saturn                       0.445                    0.444   \n",
       "Uranus                      -0.720                    0.718   \n",
       "Neptune                      0.673                    0.671   \n",
       "Pluto                        6.410                    6.390   \n",
       "\n",
       "         Distance from Sun per 106 km  Perihelion per 106 km  \\\n",
       "Planet                                                         \n",
       "Mercury                         0.387                  0.313   \n",
       "Venus                           0.723                  0.731   \n",
       "Earth                           1.000                  1.000   \n",
       "Mars                            1.520                  1.410   \n",
       "Jupiter                         5.200                  5.030   \n",
       "Saturn                          9.580                  9.200   \n",
       "Uranus                         19.200                 18.640   \n",
       "Neptune                        30.050                 30.220   \n",
       "Pluto                          39.480                 30.160   \n",
       "\n",
       "         Aphelion per 106 km  Orbital Period per days  \\\n",
       "Planet                                                  \n",
       "Mercury                0.459                    0.241   \n",
       "Venus                  0.716                    0.615   \n",
       "Earth                  1.000                    1.000   \n",
       "Mars                   1.640                    1.880   \n",
       "Jupiter                5.370                   11.900   \n",
       "Saturn                 9.960                   29.400   \n",
       "Uranus                19.750                   83.700   \n",
       "Neptune               29.890                  163.700   \n",
       "Pluto                 48.490                  247.900   \n",
       "\n",
       "         Orbital Velocity per km/s  Orbital Eccentricity  \\\n",
       "Planet                                                     \n",
       "Mercury                      1.590                12.300   \n",
       "Venus                        1.180                 0.401   \n",
       "Earth                        1.000                 1.000   \n",
       "Mars                         0.808                 5.600   \n",
       "Jupiter                      0.439                 2.930   \n",
       "Saturn                       0.325                 3.380   \n",
       "Uranus                       0.228                 2.740   \n",
       "Neptune                      0.182                 0.677   \n",
       "Pluto                        0.157                14.600   \n",
       "\n",
       "         Obliquity to Orbit per degrees  \n",
       "Planet                                   \n",
       "Mercury                           0.001  \n",
       "Venus                             0.113  \n",
       "Earth                             1.000  \n",
       "Mars                              1.070  \n",
       "Jupiter                           0.134  \n",
       "Saturn                            1.140  \n",
       "Uranus                            4.170  \n",
       "Neptune                           1.210  \n",
       "Pluto                             2.450  "
      ],
      "text/html": "<div>\n<style scoped>\n    .dataframe tbody tr th:only-of-type {\n        vertical-align: middle;\n    }\n\n    .dataframe tbody tr th {\n        vertical-align: top;\n    }\n\n    .dataframe thead th {\n        text-align: right;\n    }\n</style>\n<table border=\"1\" class=\"dataframe\">\n  <thead>\n    <tr style=\"text-align: right;\">\n      <th></th>\n      <th>Mass per 1024kg</th>\n      <th>Diameter per km</th>\n      <th>Density per kg/m3</th>\n      <th>Gravity per m/s2</th>\n      <th>Escape Velocity per km/s</th>\n      <th>Rotation Period per hours</th>\n      <th>Length of Day per hours</th>\n      <th>Distance from Sun per 106 km</th>\n      <th>Perihelion per 106 km</th>\n      <th>Aphelion per 106 km</th>\n      <th>Orbital Period per days</th>\n      <th>Orbital Velocity per km/s</th>\n      <th>Orbital Eccentricity</th>\n      <th>Obliquity to Orbit per degrees</th>\n    </tr>\n    <tr>\n      <th>Planet</th>\n      <th></th>\n      <th></th>\n      <th></th>\n      <th></th>\n      <th></th>\n      <th></th>\n      <th></th>\n      <th></th>\n      <th></th>\n      <th></th>\n      <th></th>\n      <th></th>\n      <th></th>\n      <th></th>\n    </tr>\n  </thead>\n  <tbody>\n    <tr>\n      <th>Mercury</th>\n      <td>0.0553</td>\n      <td>0.383</td>\n      <td>0.984</td>\n      <td>0.378</td>\n      <td>0.384</td>\n      <td>58.800</td>\n      <td>175.900</td>\n      <td>0.387</td>\n      <td>0.313</td>\n      <td>0.459</td>\n      <td>0.241</td>\n      <td>1.590</td>\n      <td>12.300</td>\n      <td>0.001</td>\n    </tr>\n    <tr>\n      <th>Venus</th>\n      <td>0.8150</td>\n      <td>0.949</td>\n      <td>0.951</td>\n      <td>0.907</td>\n      <td>0.926</td>\n      <td>-244.000</td>\n      <td>116.800</td>\n      <td>0.723</td>\n      <td>0.731</td>\n      <td>0.716</td>\n      <td>0.615</td>\n      <td>1.180</td>\n      <td>0.401</td>\n      <td>0.113</td>\n    </tr>\n    <tr>\n      <th>Earth</th>\n      <td>1.0000</td>\n      <td>1.000</td>\n      <td>1.000</td>\n      <td>1.000</td>\n      <td>1.000</td>\n      <td>1.000</td>\n      <td>1.000</td>\n      <td>1.000</td>\n      <td>1.000</td>\n      <td>1.000</td>\n      <td>1.000</td>\n      <td>1.000</td>\n      <td>1.000</td>\n      <td>1.000</td>\n    </tr>\n    <tr>\n      <th>Mars</th>\n      <td>0.1070</td>\n      <td>0.532</td>\n      <td>0.713</td>\n      <td>0.377</td>\n      <td>0.450</td>\n      <td>1.030</td>\n      <td>1.030</td>\n      <td>1.520</td>\n      <td>1.410</td>\n      <td>1.640</td>\n      <td>1.880</td>\n      <td>0.808</td>\n      <td>5.600</td>\n      <td>1.070</td>\n    </tr>\n    <tr>\n      <th>Jupiter</th>\n      <td>317.8000</td>\n      <td>11.210</td>\n      <td>0.240</td>\n      <td>2.360</td>\n      <td>5.320</td>\n      <td>0.415</td>\n      <td>0.414</td>\n      <td>5.200</td>\n      <td>5.030</td>\n      <td>5.370</td>\n      <td>11.900</td>\n      <td>0.439</td>\n      <td>2.930</td>\n      <td>0.134</td>\n    </tr>\n    <tr>\n      <th>Saturn</th>\n      <td>95.2000</td>\n      <td>9.450</td>\n      <td>0.125</td>\n      <td>0.916</td>\n      <td>3.170</td>\n      <td>0.445</td>\n      <td>0.444</td>\n      <td>9.580</td>\n      <td>9.200</td>\n      <td>9.960</td>\n      <td>29.400</td>\n      <td>0.325</td>\n      <td>3.380</td>\n      <td>1.140</td>\n    </tr>\n    <tr>\n      <th>Uranus</th>\n      <td>14.5000</td>\n      <td>4.010</td>\n      <td>0.230</td>\n      <td>0.889</td>\n      <td>1.900</td>\n      <td>-0.720</td>\n      <td>0.718</td>\n      <td>19.200</td>\n      <td>18.640</td>\n      <td>19.750</td>\n      <td>83.700</td>\n      <td>0.228</td>\n      <td>2.740</td>\n      <td>4.170</td>\n    </tr>\n    <tr>\n      <th>Neptune</th>\n      <td>17.1000</td>\n      <td>3.880</td>\n      <td>0.297</td>\n      <td>1.120</td>\n      <td>2.100</td>\n      <td>0.673</td>\n      <td>0.671</td>\n      <td>30.050</td>\n      <td>30.220</td>\n      <td>29.890</td>\n      <td>163.700</td>\n      <td>0.182</td>\n      <td>0.677</td>\n      <td>1.210</td>\n    </tr>\n    <tr>\n      <th>Pluto</th>\n      <td>0.0025</td>\n      <td>0.186</td>\n      <td>0.380</td>\n      <td>0.071</td>\n      <td>0.116</td>\n      <td>6.410</td>\n      <td>6.390</td>\n      <td>39.480</td>\n      <td>30.160</td>\n      <td>48.490</td>\n      <td>247.900</td>\n      <td>0.157</td>\n      <td>14.600</td>\n      <td>2.450</td>\n    </tr>\n  </tbody>\n</table>\n</div>"
     },
     "metadata": {},
     "execution_count": 93
    }
   ],
   "source": [
    "# set the column \"Planet\" as the index for the ratio_file df\n",
    "ratio_db = ratio_df.set_index('Planet')\n",
    "ratio_db"
   ]
  },
  {
   "cell_type": "code",
   "execution_count": 94,
   "metadata": {},
   "outputs": [],
   "source": [
    "# create a connection with postgresql\n",
    "# connection_string = f\"{username}:{password}@localhost:5432/beyond_earth\"\n",
    "connection_string = \"postgres:postgres@localhost:5432/beyond_earth\"\n",
    "engine = create_engine(f'postgresql://{connection_string}')"
   ]
  },
  {
   "cell_type": "code",
   "execution_count": 95,
   "metadata": {},
   "outputs": [
    {
     "output_type": "execute_result",
     "data": {
      "text/plain": [
       "['planet_fact_sheet', 'planet_ratio_fact_sheet']"
      ]
     },
     "metadata": {},
     "execution_count": 95
    }
   ],
   "source": [
    "# check the table name/s\n",
    "engine.table_names()"
   ]
  },
  {
   "cell_type": "code",
   "execution_count": 96,
   "metadata": {},
   "outputs": [
    {
     "output_type": "stream",
     "name": "stdout",
     "text": [
      "{'name': 'Planet', 'type': VARCHAR(), 'nullable': False, 'default': None, 'autoincrement': False, 'comment': None}\n{'name': 'Mass per 1024kg', 'type': NUMERIC(precision=18, scale=4), 'nullable': False, 'default': None, 'autoincrement': False, 'comment': None}\n{'name': 'Diameter per km', 'type': INTEGER(), 'nullable': False, 'default': None, 'autoincrement': False, 'comment': None}\n{'name': 'Density per kg/m3', 'type': INTEGER(), 'nullable': False, 'default': None, 'autoincrement': False, 'comment': None}\n{'name': 'Gravity per m/s2', 'type': NUMERIC(precision=18, scale=1), 'nullable': False, 'default': None, 'autoincrement': False, 'comment': None}\n{'name': 'Escape Velocity per km/s', 'type': NUMERIC(precision=18, scale=1), 'nullable': False, 'default': None, 'autoincrement': False, 'comment': None}\n{'name': 'Rotation Period per hours', 'type': NUMERIC(precision=18, scale=1), 'nullable': False, 'default': None, 'autoincrement': False, 'comment': None}\n{'name': 'Length of Day per hours', 'type': NUMERIC(precision=18, scale=1), 'nullable': False, 'default': None, 'autoincrement': False, 'comment': None}\n{'name': 'Distance from Sun per 106 km', 'type': NUMERIC(precision=18, scale=1), 'nullable': False, 'default': None, 'autoincrement': False, 'comment': None}\n{'name': 'Perihelion per 106 km', 'type': NUMERIC(precision=18, scale=1), 'nullable': False, 'default': None, 'autoincrement': False, 'comment': None}\n{'name': 'Aphelion per 106 km', 'type': NUMERIC(precision=18, scale=1), 'nullable': False, 'default': None, 'autoincrement': False, 'comment': None}\n{'name': 'Orbital Period per days', 'type': NUMERIC(precision=18, scale=1), 'nullable': False, 'default': None, 'autoincrement': False, 'comment': None}\n{'name': 'Orbital Velocity per km/s', 'type': NUMERIC(precision=18, scale=1), 'nullable': False, 'default': None, 'autoincrement': False, 'comment': None}\n{'name': 'Orbital Inclination per degrees', 'type': NUMERIC(precision=18, scale=1), 'nullable': False, 'default': None, 'autoincrement': False, 'comment': None}\n{'name': 'Orbital Eccentricity', 'type': NUMERIC(precision=18, scale=3), 'nullable': False, 'default': None, 'autoincrement': False, 'comment': None}\n{'name': 'Obliquity to Orbit per degrees', 'type': NUMERIC(precision=18, scale=3), 'nullable': False, 'default': None, 'autoincrement': False, 'comment': None}\n{'name': 'Mean Temperature per Celsius', 'type': INTEGER(), 'nullable': False, 'default': None, 'autoincrement': False, 'comment': None}\n{'name': 'Number of Moons', 'type': INTEGER(), 'nullable': False, 'default': None, 'autoincrement': False, 'comment': None}\n{'name': 'Ring System?', 'type': BOOLEAN(), 'nullable': False, 'default': None, 'autoincrement': False, 'comment': None}\n"
     ]
    }
   ],
   "source": [
    "# check the column names in the table \"planet_fact_sheet\"\n",
    "inspector=inspect(engine)\n",
    "columns=inspector.get_columns('planet_fact_sheet')\n",
    "for column in columns:\n",
    "    print(column)"
   ]
  },
  {
   "cell_type": "code",
   "execution_count": 97,
   "metadata": {},
   "outputs": [
    {
     "output_type": "stream",
     "name": "stdout",
     "text": [
      "{'name': 'Planet', 'type': VARCHAR(), 'nullable': False, 'default': None, 'autoincrement': False, 'comment': None}\n{'name': 'Mass per 1024kg', 'type': NUMERIC(precision=18, scale=4), 'nullable': False, 'default': None, 'autoincrement': False, 'comment': None}\n{'name': 'Diameter per km', 'type': NUMERIC(precision=18, scale=4), 'nullable': False, 'default': None, 'autoincrement': False, 'comment': None}\n{'name': 'Density per kg/m3', 'type': NUMERIC(precision=18, scale=3), 'nullable': False, 'default': None, 'autoincrement': False, 'comment': None}\n{'name': 'Gravity per m/s2', 'type': NUMERIC(precision=18, scale=3), 'nullable': False, 'default': None, 'autoincrement': False, 'comment': None}\n{'name': 'Escape Velocity per km/s', 'type': NUMERIC(precision=18, scale=3), 'nullable': False, 'default': None, 'autoincrement': False, 'comment': None}\n{'name': 'Rotation Period per hours', 'type': NUMERIC(precision=18, scale=3), 'nullable': False, 'default': None, 'autoincrement': False, 'comment': None}\n{'name': 'Length of Day per hours', 'type': NUMERIC(precision=18, scale=3), 'nullable': False, 'default': None, 'autoincrement': False, 'comment': None}\n{'name': 'Distance from Sun per 106 km', 'type': NUMERIC(precision=18, scale=3), 'nullable': False, 'default': None, 'autoincrement': False, 'comment': None}\n{'name': 'Perihelion per 106 km', 'type': NUMERIC(precision=18, scale=3), 'nullable': False, 'default': None, 'autoincrement': False, 'comment': None}\n{'name': 'Aphelion per 106 km', 'type': NUMERIC(precision=18, scale=3), 'nullable': False, 'default': None, 'autoincrement': False, 'comment': None}\n{'name': 'Orbital Period per days', 'type': NUMERIC(precision=18, scale=3), 'nullable': False, 'default': None, 'autoincrement': False, 'comment': None}\n{'name': 'Orbital Velocity per km/s', 'type': NUMERIC(precision=18, scale=3), 'nullable': False, 'default': None, 'autoincrement': False, 'comment': None}\n{'name': 'Orbital Eccentricity', 'type': NUMERIC(precision=18, scale=3), 'nullable': False, 'default': None, 'autoincrement': False, 'comment': None}\n{'name': 'Obliquity to Orbit per degrees', 'type': NUMERIC(precision=18, scale=3), 'nullable': False, 'default': None, 'autoincrement': False, 'comment': None}\n"
     ]
    }
   ],
   "source": [
    "# check the column names in the table \"planet_fact_sheet\"\n",
    "inspector=inspect(engine)\n",
    "columns=inspector.get_columns('planet_ratio_fact_sheet')\n",
    "for column in columns:\n",
    "    print(column)"
   ]
  },
  {
   "cell_type": "code",
   "execution_count": 102,
   "metadata": {},
   "outputs": [
    {
     "output_type": "execute_result",
     "data": {
      "text/plain": [
       "<sqlalchemy.engine.result.ResultProxy at 0x2c5e46008b0>"
      ]
     },
     "metadata": {},
     "execution_count": 102
    }
   ],
   "source": [
    "# delete the contents of both tables\n",
    "engine.execute(\"DELETE FROM planet_ratio_fact_sheet\")\n",
    "engine.execute(\"DELETE FROM planet_fact_sheet\")"
   ]
  },
  {
   "cell_type": "code",
   "execution_count": 103,
   "metadata": {},
   "outputs": [],
   "source": [
    "# export the fact_db data to the table planet_fact_sheet\n",
    "fact_db.to_sql(name='planet_fact_sheet', con=engine, if_exists='append', index=True)"
   ]
  },
  {
   "cell_type": "code",
   "execution_count": 104,
   "metadata": {},
   "outputs": [],
   "source": [
    "# export the ratio_db data to the table planet_ratio_fact_sheet\n",
    "\n",
    "ratio_db.to_sql(name='planet_ratio_fact_sheet', con=engine, if_exists='append', index=True)"
   ]
  },
  {
   "cell_type": "code",
   "execution_count": null,
   "metadata": {},
   "outputs": [],
   "source": []
  }
 ]
}